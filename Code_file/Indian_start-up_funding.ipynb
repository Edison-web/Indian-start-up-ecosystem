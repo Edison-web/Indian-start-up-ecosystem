{
 "cells": [
  {
   "attachments": {},
   "cell_type": "markdown",
   "metadata": {},
   "source": [
    "# **Investigating the Indian start-up ecosystem**\n",
    "\n",
    "## Introduction\n",
    "\n",
    "As a team looking to venture into the Indian start-up ecosystem, we are researching to understand the landscape better and identify potential areas of opportunity. I have been assigned the responsibility of studying the Indian start-up ecosystem and suggesting a suitable plan of action for our team’s development. To accomplish this task, I will create a distinctive narrative based on the 2018 to 2021 Indian start-up datasets. This will involve formulating and evaluating a hypothesis, preparing research questions, conducting analysis, and presenting insights through appropriate visualizations.\n",
    "\n",
    "### Null Hypothesis\n",
    "Fintech is the most lucrative sector receiving the most significant funding in the Indian start-up ecosystem.\n",
    "\n",
    "### Alternative Hypothesis\n",
    "Fintech is not the most lucrative sector as it is not receiving the most significant amount of funding in the Indian start-up ecosystem.\n",
    "\n",
    "### Research Questions\n",
    "\n",
    "1. Which sector received the most funding from 2018 to 2021?\n",
    "2. How much funding has the fintech sector received in the Indian start-up ecosystem over the same period, compared to other sectors?\n",
    "3. Have there been any significant fintech funding deals in the Indian start-up ecosystem from 2018 to 2021?\n",
    "4. What are the top 10 sectors that had the most funding over the same period?\n",
    "5. How many fintech start-up companies received funding from 2018 to 2021 compared to other companies in the top 10 sectors?\n",
    "6. How does the average amount of funding received by fintech start-ups compare to the average amount of funding received by start-ups in other sectors in the Indian start-up ecosystem over the same period?\n",
    "7. Have the investment trends in the Indian start-up ecosystem shown a preference for fintech companies over other sectors from 2018 to 2021?\n"
   ]
  },
  {
   "attachments": {},
   "cell_type": "markdown",
   "metadata": {},
   "source": [
    "## Data Understanding\n",
    "\n",
    "I plan to analyze data from 2018 to 2021 to address the research questions, so it is necessary to merge the datasets. However, the column names in the 2018 datasets do not match those in 2019, 2020, and 2021 datasets, and the 2018 dataset also has fewer columns. Additionally, some of the values in the \"Amount\" column of the 2018 dataset are in rupees instead of dollars like the rest of the datasets.\n",
    "\n",
    "To resolve these inconsistencies before combining the datasets, I will first adjust the column names of the 2018 dataset to align with the other datasets. After merging the datasets, any missing columns will be filled with null values. Finally, I will convert the rupee values in the \"Amount\" column to dollars."
   ]
  },
  {
   "cell_type": "code",
   "execution_count": 1,
   "metadata": {},
   "outputs": [],
   "source": [
    "import pandas as pd\n",
    "import numpy as np\n",
    "\n",
    "import glob\n",
    "from collections import Counter\n",
    "\n",
    "from matplotlib import pyplot as plt\n",
    "import warnings"
   ]
  },
  {
   "cell_type": "code",
   "execution_count": 2,
   "metadata": {},
   "outputs": [
    {
     "data": {
      "text/html": [
       "<div>\n",
       "<style scoped>\n",
       "    .dataframe tbody tr th:only-of-type {\n",
       "        vertical-align: middle;\n",
       "    }\n",
       "\n",
       "    .dataframe tbody tr th {\n",
       "        vertical-align: top;\n",
       "    }\n",
       "\n",
       "    .dataframe thead th {\n",
       "        text-align: right;\n",
       "    }\n",
       "</style>\n",
       "<table border=\"1\" class=\"dataframe\">\n",
       "  <thead>\n",
       "    <tr style=\"text-align: right;\">\n",
       "      <th></th>\n",
       "      <th>Company Name</th>\n",
       "      <th>Industry</th>\n",
       "      <th>Round/Series</th>\n",
       "      <th>Amount</th>\n",
       "      <th>Location</th>\n",
       "      <th>About Company</th>\n",
       "    </tr>\n",
       "  </thead>\n",
       "  <tbody>\n",
       "    <tr>\n",
       "      <th>0</th>\n",
       "      <td>TheCollegeFever</td>\n",
       "      <td>Brand Marketing, Event Promotion, Marketing, S...</td>\n",
       "      <td>Seed</td>\n",
       "      <td>250000</td>\n",
       "      <td>Bangalore, Karnataka, India</td>\n",
       "      <td>TheCollegeFever is a hub for fun, fiesta and f...</td>\n",
       "    </tr>\n",
       "    <tr>\n",
       "      <th>1</th>\n",
       "      <td>Happy Cow Dairy</td>\n",
       "      <td>Agriculture, Farming</td>\n",
       "      <td>Seed</td>\n",
       "      <td>₹40,000,000</td>\n",
       "      <td>Mumbai, Maharashtra, India</td>\n",
       "      <td>A startup which aggregates milk from dairy far...</td>\n",
       "    </tr>\n",
       "    <tr>\n",
       "      <th>2</th>\n",
       "      <td>MyLoanCare</td>\n",
       "      <td>Credit, Financial Services, Lending, Marketplace</td>\n",
       "      <td>Series A</td>\n",
       "      <td>₹65,000,000</td>\n",
       "      <td>Gurgaon, Haryana, India</td>\n",
       "      <td>Leading Online Loans Marketplace in India</td>\n",
       "    </tr>\n",
       "    <tr>\n",
       "      <th>3</th>\n",
       "      <td>PayMe India</td>\n",
       "      <td>Financial Services, FinTech</td>\n",
       "      <td>Angel</td>\n",
       "      <td>2000000</td>\n",
       "      <td>Noida, Uttar Pradesh, India</td>\n",
       "      <td>PayMe India is an innovative FinTech organizat...</td>\n",
       "    </tr>\n",
       "    <tr>\n",
       "      <th>4</th>\n",
       "      <td>Eunimart</td>\n",
       "      <td>E-Commerce Platforms, Retail, SaaS</td>\n",
       "      <td>Seed</td>\n",
       "      <td>—</td>\n",
       "      <td>Hyderabad, Andhra Pradesh, India</td>\n",
       "      <td>Eunimart is a one stop solution for merchants ...</td>\n",
       "    </tr>\n",
       "  </tbody>\n",
       "</table>\n",
       "</div>"
      ],
      "text/plain": [
       "      Company Name                                           Industry  \\\n",
       "0  TheCollegeFever  Brand Marketing, Event Promotion, Marketing, S...   \n",
       "1  Happy Cow Dairy                               Agriculture, Farming   \n",
       "2       MyLoanCare   Credit, Financial Services, Lending, Marketplace   \n",
       "3      PayMe India                        Financial Services, FinTech   \n",
       "4         Eunimart                 E-Commerce Platforms, Retail, SaaS   \n",
       "\n",
       "  Round/Series       Amount                          Location  \\\n",
       "0         Seed       250000       Bangalore, Karnataka, India   \n",
       "1         Seed  ₹40,000,000        Mumbai, Maharashtra, India   \n",
       "2     Series A  ₹65,000,000           Gurgaon, Haryana, India   \n",
       "3        Angel      2000000       Noida, Uttar Pradesh, India   \n",
       "4         Seed            —  Hyderabad, Andhra Pradesh, India   \n",
       "\n",
       "                                       About Company  \n",
       "0  TheCollegeFever is a hub for fun, fiesta and f...  \n",
       "1  A startup which aggregates milk from dairy far...  \n",
       "2          Leading Online Loans Marketplace in India  \n",
       "3  PayMe India is an innovative FinTech organizat...  \n",
       "4  Eunimart is a one stop solution for merchants ...  "
      ]
     },
     "execution_count": 2,
     "metadata": {},
     "output_type": "execute_result"
    }
   ],
   "source": [
    "# load the 2018 and 2019 datasets into dataframes to compare the data in the different columns\n",
    "# in order to make the column names of the 2018 dataset consistent with the other datasets\n",
    "\n",
    "start_ups_2018 = pd.read_csv('C:/Users/Eddison/OneDrive/Desktop/Portfolio/LP1 project/Indian-start-up-ecosystem/Indian_start-up_funding/startup_funding2018.csv')\n",
    "start_ups_2018.head()"
   ]
  },
  {
   "cell_type": "code",
   "execution_count": 3,
   "metadata": {},
   "outputs": [
    {
     "data": {
      "text/html": [
       "<div>\n",
       "<style scoped>\n",
       "    .dataframe tbody tr th:only-of-type {\n",
       "        vertical-align: middle;\n",
       "    }\n",
       "\n",
       "    .dataframe tbody tr th {\n",
       "        vertical-align: top;\n",
       "    }\n",
       "\n",
       "    .dataframe thead th {\n",
       "        text-align: right;\n",
       "    }\n",
       "</style>\n",
       "<table border=\"1\" class=\"dataframe\">\n",
       "  <thead>\n",
       "    <tr style=\"text-align: right;\">\n",
       "      <th></th>\n",
       "      <th>Company/Brand</th>\n",
       "      <th>Founded</th>\n",
       "      <th>HeadQuarter</th>\n",
       "      <th>Sector</th>\n",
       "      <th>What it does</th>\n",
       "      <th>Founders</th>\n",
       "      <th>Investor</th>\n",
       "      <th>Amount($)</th>\n",
       "      <th>Stage</th>\n",
       "    </tr>\n",
       "  </thead>\n",
       "  <tbody>\n",
       "    <tr>\n",
       "      <th>0</th>\n",
       "      <td>Bombay Shaving</td>\n",
       "      <td>NaN</td>\n",
       "      <td>NaN</td>\n",
       "      <td>Ecommerce</td>\n",
       "      <td>Provides a range of male grooming products</td>\n",
       "      <td>Shantanu Deshpande</td>\n",
       "      <td>Sixth Sense Ventures</td>\n",
       "      <td>$6,300,000</td>\n",
       "      <td>NaN</td>\n",
       "    </tr>\n",
       "    <tr>\n",
       "      <th>1</th>\n",
       "      <td>Ruangguru</td>\n",
       "      <td>2014.0</td>\n",
       "      <td>Mumbai</td>\n",
       "      <td>Edtech</td>\n",
       "      <td>A learning platform that provides topic-based ...</td>\n",
       "      <td>Adamas Belva Syah Devara, Iman Usman.</td>\n",
       "      <td>General Atlantic</td>\n",
       "      <td>$150,000,000</td>\n",
       "      <td>Series C</td>\n",
       "    </tr>\n",
       "    <tr>\n",
       "      <th>2</th>\n",
       "      <td>Eduisfun</td>\n",
       "      <td>NaN</td>\n",
       "      <td>Mumbai</td>\n",
       "      <td>Edtech</td>\n",
       "      <td>It aims to make learning fun via games.</td>\n",
       "      <td>Jatin Solanki</td>\n",
       "      <td>Deepak Parekh, Amitabh Bachchan, Piyush Pandey</td>\n",
       "      <td>$28,000,000</td>\n",
       "      <td>Fresh funding</td>\n",
       "    </tr>\n",
       "    <tr>\n",
       "      <th>3</th>\n",
       "      <td>HomeLane</td>\n",
       "      <td>2014.0</td>\n",
       "      <td>Chennai</td>\n",
       "      <td>Interior design</td>\n",
       "      <td>Provides interior designing solutions</td>\n",
       "      <td>Srikanth Iyer, Rama Harinath</td>\n",
       "      <td>Evolvence India Fund (EIF), Pidilite Group, FJ...</td>\n",
       "      <td>$30,000,000</td>\n",
       "      <td>Series D</td>\n",
       "    </tr>\n",
       "    <tr>\n",
       "      <th>4</th>\n",
       "      <td>Nu Genes</td>\n",
       "      <td>2004.0</td>\n",
       "      <td>Telangana</td>\n",
       "      <td>AgriTech</td>\n",
       "      <td>It is a seed company engaged in production, pr...</td>\n",
       "      <td>Narayana Reddy Punyala</td>\n",
       "      <td>Innovation in Food and Agriculture (IFA)</td>\n",
       "      <td>$6,000,000</td>\n",
       "      <td>NaN</td>\n",
       "    </tr>\n",
       "  </tbody>\n",
       "</table>\n",
       "</div>"
      ],
      "text/plain": [
       "    Company/Brand  Founded HeadQuarter           Sector  \\\n",
       "0  Bombay Shaving      NaN         NaN        Ecommerce   \n",
       "1       Ruangguru   2014.0      Mumbai           Edtech   \n",
       "2        Eduisfun      NaN      Mumbai           Edtech   \n",
       "3        HomeLane   2014.0     Chennai  Interior design   \n",
       "4        Nu Genes   2004.0   Telangana         AgriTech   \n",
       "\n",
       "                                        What it does  \\\n",
       "0         Provides a range of male grooming products   \n",
       "1  A learning platform that provides topic-based ...   \n",
       "2            It aims to make learning fun via games.   \n",
       "3              Provides interior designing solutions   \n",
       "4  It is a seed company engaged in production, pr...   \n",
       "\n",
       "                                Founders  \\\n",
       "0                     Shantanu Deshpande   \n",
       "1  Adamas Belva Syah Devara, Iman Usman.   \n",
       "2                          Jatin Solanki   \n",
       "3           Srikanth Iyer, Rama Harinath   \n",
       "4                 Narayana Reddy Punyala   \n",
       "\n",
       "                                            Investor     Amount($)  \\\n",
       "0                               Sixth Sense Ventures    $6,300,000   \n",
       "1                                   General Atlantic  $150,000,000   \n",
       "2     Deepak Parekh, Amitabh Bachchan, Piyush Pandey   $28,000,000   \n",
       "3  Evolvence India Fund (EIF), Pidilite Group, FJ...   $30,000,000   \n",
       "4           Innovation in Food and Agriculture (IFA)    $6,000,000   \n",
       "\n",
       "           Stage  \n",
       "0            NaN  \n",
       "1       Series C  \n",
       "2  Fresh funding  \n",
       "3       Series D  \n",
       "4            NaN  "
      ]
     },
     "execution_count": 3,
     "metadata": {},
     "output_type": "execute_result"
    }
   ],
   "source": [
    "start_ups_2019 = pd.read_csv('C:/Users/Eddison/OneDrive/Desktop/Portfolio/LP1 project/Indian-start-up-ecosystem/Indian_start-up_funding/startup_funding2019.csv')\n",
    "start_ups_2019.head()"
   ]
  },
  {
   "attachments": {},
   "cell_type": "markdown",
   "metadata": {},
   "source": [
    "Check the column names of the datasets"
   ]
  },
  {
   "cell_type": "code",
   "execution_count": 4,
   "metadata": {},
   "outputs": [
    {
     "data": {
      "text/plain": [
       "Index(['Company Name', 'Industry', 'Round/Series', 'Amount', 'Location',\n",
       "       'About Company'],\n",
       "      dtype='object')"
      ]
     },
     "execution_count": 4,
     "metadata": {},
     "output_type": "execute_result"
    }
   ],
   "source": [
    "\n",
    "start_ups_2018.columns"
   ]
  },
  {
   "cell_type": "code",
   "execution_count": 5,
   "metadata": {},
   "outputs": [
    {
     "data": {
      "text/plain": [
       "Index(['Company/Brand', 'Founded', 'HeadQuarter', 'Sector', 'What it does',\n",
       "       'Founders', 'Investor', 'Amount($)', 'Stage'],\n",
       "      dtype='object')"
      ]
     },
     "execution_count": 5,
     "metadata": {},
     "output_type": "execute_result"
    }
   ],
   "source": [
    "start_ups_2019.columns"
   ]
  },
  {
   "attachments": {},
   "cell_type": "markdown",
   "metadata": {},
   "source": [
    "Renaming column names of the 2018 data to be consistent with the rest of the data before concatenating"
   ]
  },
  {
   "cell_type": "code",
   "execution_count": 6,
   "metadata": {},
   "outputs": [
    {
     "data": {
      "text/plain": [
       "Index(['Company/Brand', 'Sector', 'Stage', 'Amount($)', 'HeadQuarter',\n",
       "       'What it does'],\n",
       "      dtype='object')"
      ]
     },
     "execution_count": 6,
     "metadata": {},
     "output_type": "execute_result"
    }
   ],
   "source": [
    "start_ups_2018.rename(columns={'Company Name' : 'Company/Brand', 'Industry' : 'Sector', 'Round/Series' : 'Stage', 'Amount' : 'Amount($)', 'Location' : 'HeadQuarter', 'About Company' : 'What it does'}, inplace = True)\n",
    "start_ups_2018.columns"
   ]
  },
  {
   "cell_type": "code",
   "execution_count": 7,
   "metadata": {},
   "outputs": [
    {
     "data": {
      "text/plain": [
       "0           250000\n",
       "1      ₹40,000,000\n",
       "2      ₹65,000,000\n",
       "3          2000000\n",
       "4                —\n",
       "          ...     \n",
       "521      225000000\n",
       "522              —\n",
       "523           7500\n",
       "524    ₹35,000,000\n",
       "525       35000000\n",
       "Name: Amount($), Length: 526, dtype: object"
      ]
     },
     "execution_count": 7,
     "metadata": {},
     "output_type": "execute_result"
    }
   ],
   "source": [
    "# filter the values in the \"Amount\" column that are in rupees,\n",
    "# change the datatype of all values to float, and convert the rupee values to dollars\n",
    "\n",
    "start_ups_2018['Amount($)']"
   ]
  },
  {
   "cell_type": "code",
   "execution_count": 8,
   "metadata": {},
   "outputs": [
    {
     "data": {
      "text/plain": [
       "144"
      ]
     },
     "execution_count": 8,
     "metadata": {},
     "output_type": "execute_result"
    }
   ],
   "source": [
    "filt_rupee = start_ups_2018['Amount($)'].str.contains('₹')\n",
    "filt_rupee.sum()"
   ]
  },
  {
   "cell_type": "code",
   "execution_count": 9,
   "metadata": {},
   "outputs": [
    {
     "data": {
      "text/plain": [
       "0         250000.0\n",
       "1         584000.0\n",
       "2         949000.0\n",
       "3        2000000.0\n",
       "4              0.0\n",
       "          ...     \n",
       "521    225000000.0\n",
       "522            0.0\n",
       "523         7500.0\n",
       "524       511000.0\n",
       "525     35000000.0\n",
       "Name: Amount($), Length: 526, dtype: float64"
      ]
     },
     "execution_count": 9,
     "metadata": {},
     "output_type": "execute_result"
    }
   ],
   "source": [
    "start_ups_2018['Amount($)'] = start_ups_2018['Amount($)'].apply(lambda x : str(x).replace('$', '').replace('₹', '').replace(',', '').replace('—', '0')).astype(float)\n",
    "conversion_rate = 0.0146 # conversion rate of rupee to dollar in 2018\n",
    "converted = start_ups_2018.loc[filt_rupee, 'Amount($)'] * conversion_rate\n",
    "start_ups_2018.loc[filt_rupee, 'Amount($)'] = converted\n",
    "start_ups_2018['Amount($)']"
   ]
  },
  {
   "cell_type": "code",
   "execution_count": 10,
   "metadata": {},
   "outputs": [],
   "source": [
    "# merge the datasets into a single dataframe\n",
    "# add a column named \"Funding Year\" to each dataframe before merging the dataframes,\n",
    "# to indicate the year the startup received funding\n",
    "\n",
    "# get data file names\n",
    "local_path = r'/my_files'\n",
    "\n",
    "filenames = glob.glob('C:/Users/Eddison/OneDrive/Desktop/Portfolio/LP1 project/Indian-start-up-ecosystem/Indian_start-up_funding' + \"/*.csv\")\n",
    "\n",
    "dfs = [pd.read_csv(filename) for filename in filenames]\n",
    "\n",
    "dfs.remove(dfs[0])\n",
    "\n",
    "dfs.insert(0, start_ups_2018)\n",
    "\n",
    "year = 2018\n",
    "\n",
    "for i in np.arange(len(dfs)):\n",
    "    dfs[i]['Funding Year'] = year\n",
    "    year += 1\n",
    "\n",
    "big_frame = pd.concat(dfs, ignore_index = True)"
   ]
  },
  {
   "cell_type": "code",
   "execution_count": 11,
   "metadata": {},
   "outputs": [
    {
     "data": {
      "text/html": [
       "<div>\n",
       "<style scoped>\n",
       "    .dataframe tbody tr th:only-of-type {\n",
       "        vertical-align: middle;\n",
       "    }\n",
       "\n",
       "    .dataframe tbody tr th {\n",
       "        vertical-align: top;\n",
       "    }\n",
       "\n",
       "    .dataframe thead th {\n",
       "        text-align: right;\n",
       "    }\n",
       "</style>\n",
       "<table border=\"1\" class=\"dataframe\">\n",
       "  <thead>\n",
       "    <tr style=\"text-align: right;\">\n",
       "      <th></th>\n",
       "      <th>Company/Brand</th>\n",
       "      <th>Sector</th>\n",
       "      <th>Stage</th>\n",
       "      <th>Amount($)</th>\n",
       "      <th>HeadQuarter</th>\n",
       "      <th>What it does</th>\n",
       "      <th>Funding Year</th>\n",
       "      <th>Founded</th>\n",
       "      <th>Founders</th>\n",
       "      <th>Investor</th>\n",
       "      <th>Unnamed: 9</th>\n",
       "    </tr>\n",
       "  </thead>\n",
       "  <tbody>\n",
       "    <tr>\n",
       "      <th>0</th>\n",
       "      <td>TheCollegeFever</td>\n",
       "      <td>Brand Marketing, Event Promotion, Marketing, S...</td>\n",
       "      <td>Seed</td>\n",
       "      <td>250000.0</td>\n",
       "      <td>Bangalore, Karnataka, India</td>\n",
       "      <td>TheCollegeFever is a hub for fun, fiesta and f...</td>\n",
       "      <td>2018</td>\n",
       "      <td>NaN</td>\n",
       "      <td>NaN</td>\n",
       "      <td>NaN</td>\n",
       "      <td>NaN</td>\n",
       "    </tr>\n",
       "    <tr>\n",
       "      <th>1</th>\n",
       "      <td>Happy Cow Dairy</td>\n",
       "      <td>Agriculture, Farming</td>\n",
       "      <td>Seed</td>\n",
       "      <td>584000.0</td>\n",
       "      <td>Mumbai, Maharashtra, India</td>\n",
       "      <td>A startup which aggregates milk from dairy far...</td>\n",
       "      <td>2018</td>\n",
       "      <td>NaN</td>\n",
       "      <td>NaN</td>\n",
       "      <td>NaN</td>\n",
       "      <td>NaN</td>\n",
       "    </tr>\n",
       "    <tr>\n",
       "      <th>2</th>\n",
       "      <td>MyLoanCare</td>\n",
       "      <td>Credit, Financial Services, Lending, Marketplace</td>\n",
       "      <td>Series A</td>\n",
       "      <td>949000.0</td>\n",
       "      <td>Gurgaon, Haryana, India</td>\n",
       "      <td>Leading Online Loans Marketplace in India</td>\n",
       "      <td>2018</td>\n",
       "      <td>NaN</td>\n",
       "      <td>NaN</td>\n",
       "      <td>NaN</td>\n",
       "      <td>NaN</td>\n",
       "    </tr>\n",
       "    <tr>\n",
       "      <th>3</th>\n",
       "      <td>PayMe India</td>\n",
       "      <td>Financial Services, FinTech</td>\n",
       "      <td>Angel</td>\n",
       "      <td>2000000.0</td>\n",
       "      <td>Noida, Uttar Pradesh, India</td>\n",
       "      <td>PayMe India is an innovative FinTech organizat...</td>\n",
       "      <td>2018</td>\n",
       "      <td>NaN</td>\n",
       "      <td>NaN</td>\n",
       "      <td>NaN</td>\n",
       "      <td>NaN</td>\n",
       "    </tr>\n",
       "    <tr>\n",
       "      <th>4</th>\n",
       "      <td>Eunimart</td>\n",
       "      <td>E-Commerce Platforms, Retail, SaaS</td>\n",
       "      <td>Seed</td>\n",
       "      <td>0.0</td>\n",
       "      <td>Hyderabad, Andhra Pradesh, India</td>\n",
       "      <td>Eunimart is a one stop solution for merchants ...</td>\n",
       "      <td>2018</td>\n",
       "      <td>NaN</td>\n",
       "      <td>NaN</td>\n",
       "      <td>NaN</td>\n",
       "      <td>NaN</td>\n",
       "    </tr>\n",
       "    <tr>\n",
       "      <th>5</th>\n",
       "      <td>Hasura</td>\n",
       "      <td>Cloud Infrastructure, PaaS, SaaS</td>\n",
       "      <td>Seed</td>\n",
       "      <td>1600000.0</td>\n",
       "      <td>Bengaluru, Karnataka, India</td>\n",
       "      <td>Hasura is a platform that allows developers to...</td>\n",
       "      <td>2018</td>\n",
       "      <td>NaN</td>\n",
       "      <td>NaN</td>\n",
       "      <td>NaN</td>\n",
       "      <td>NaN</td>\n",
       "    </tr>\n",
       "    <tr>\n",
       "      <th>6</th>\n",
       "      <td>Tripshelf</td>\n",
       "      <td>Internet, Leisure, Marketplace</td>\n",
       "      <td>Seed</td>\n",
       "      <td>233600.0</td>\n",
       "      <td>Kalkaji, Delhi, India</td>\n",
       "      <td>Tripshelf is an online market place for holida...</td>\n",
       "      <td>2018</td>\n",
       "      <td>NaN</td>\n",
       "      <td>NaN</td>\n",
       "      <td>NaN</td>\n",
       "      <td>NaN</td>\n",
       "    </tr>\n",
       "    <tr>\n",
       "      <th>7</th>\n",
       "      <td>Hyperdata.IO</td>\n",
       "      <td>Market Research</td>\n",
       "      <td>Angel</td>\n",
       "      <td>730000.0</td>\n",
       "      <td>Hyderabad, Andhra Pradesh, India</td>\n",
       "      <td>Hyperdata combines advanced machine learning w...</td>\n",
       "      <td>2018</td>\n",
       "      <td>NaN</td>\n",
       "      <td>NaN</td>\n",
       "      <td>NaN</td>\n",
       "      <td>NaN</td>\n",
       "    </tr>\n",
       "    <tr>\n",
       "      <th>8</th>\n",
       "      <td>Freightwalla</td>\n",
       "      <td>Information Services, Information Technology</td>\n",
       "      <td>Seed</td>\n",
       "      <td>0.0</td>\n",
       "      <td>Mumbai, Maharashtra, India</td>\n",
       "      <td>Freightwalla is an international forwarder tha...</td>\n",
       "      <td>2018</td>\n",
       "      <td>NaN</td>\n",
       "      <td>NaN</td>\n",
       "      <td>NaN</td>\n",
       "      <td>NaN</td>\n",
       "    </tr>\n",
       "    <tr>\n",
       "      <th>9</th>\n",
       "      <td>Microchip Payments</td>\n",
       "      <td>Mobile Payments</td>\n",
       "      <td>Seed</td>\n",
       "      <td>0.0</td>\n",
       "      <td>Bangalore, Karnataka, India</td>\n",
       "      <td>Microchip payments is a mobile-based payment a...</td>\n",
       "      <td>2018</td>\n",
       "      <td>NaN</td>\n",
       "      <td>NaN</td>\n",
       "      <td>NaN</td>\n",
       "      <td>NaN</td>\n",
       "    </tr>\n",
       "  </tbody>\n",
       "</table>\n",
       "</div>"
      ],
      "text/plain": [
       "        Company/Brand                                             Sector  \\\n",
       "0     TheCollegeFever  Brand Marketing, Event Promotion, Marketing, S...   \n",
       "1     Happy Cow Dairy                               Agriculture, Farming   \n",
       "2          MyLoanCare   Credit, Financial Services, Lending, Marketplace   \n",
       "3         PayMe India                        Financial Services, FinTech   \n",
       "4            Eunimart                 E-Commerce Platforms, Retail, SaaS   \n",
       "5              Hasura                   Cloud Infrastructure, PaaS, SaaS   \n",
       "6           Tripshelf                     Internet, Leisure, Marketplace   \n",
       "7        Hyperdata.IO                                    Market Research   \n",
       "8        Freightwalla       Information Services, Information Technology   \n",
       "9  Microchip Payments                                    Mobile Payments   \n",
       "\n",
       "      Stage  Amount($)                       HeadQuarter  \\\n",
       "0      Seed   250000.0       Bangalore, Karnataka, India   \n",
       "1      Seed   584000.0        Mumbai, Maharashtra, India   \n",
       "2  Series A   949000.0           Gurgaon, Haryana, India   \n",
       "3     Angel  2000000.0       Noida, Uttar Pradesh, India   \n",
       "4      Seed        0.0  Hyderabad, Andhra Pradesh, India   \n",
       "5      Seed  1600000.0       Bengaluru, Karnataka, India   \n",
       "6      Seed   233600.0             Kalkaji, Delhi, India   \n",
       "7     Angel   730000.0  Hyderabad, Andhra Pradesh, India   \n",
       "8      Seed        0.0        Mumbai, Maharashtra, India   \n",
       "9      Seed        0.0       Bangalore, Karnataka, India   \n",
       "\n",
       "                                        What it does  Funding Year Founded  \\\n",
       "0  TheCollegeFever is a hub for fun, fiesta and f...          2018     NaN   \n",
       "1  A startup which aggregates milk from dairy far...          2018     NaN   \n",
       "2          Leading Online Loans Marketplace in India          2018     NaN   \n",
       "3  PayMe India is an innovative FinTech organizat...          2018     NaN   \n",
       "4  Eunimart is a one stop solution for merchants ...          2018     NaN   \n",
       "5  Hasura is a platform that allows developers to...          2018     NaN   \n",
       "6  Tripshelf is an online market place for holida...          2018     NaN   \n",
       "7  Hyperdata combines advanced machine learning w...          2018     NaN   \n",
       "8  Freightwalla is an international forwarder tha...          2018     NaN   \n",
       "9  Microchip payments is a mobile-based payment a...          2018     NaN   \n",
       "\n",
       "  Founders Investor Unnamed: 9  \n",
       "0      NaN      NaN        NaN  \n",
       "1      NaN      NaN        NaN  \n",
       "2      NaN      NaN        NaN  \n",
       "3      NaN      NaN        NaN  \n",
       "4      NaN      NaN        NaN  \n",
       "5      NaN      NaN        NaN  \n",
       "6      NaN      NaN        NaN  \n",
       "7      NaN      NaN        NaN  \n",
       "8      NaN      NaN        NaN  \n",
       "9      NaN      NaN        NaN  "
      ]
     },
     "execution_count": 11,
     "metadata": {},
     "output_type": "execute_result"
    }
   ],
   "source": [
    "big_frame.head(10)"
   ]
  },
  {
   "cell_type": "code",
   "execution_count": 12,
   "metadata": {},
   "outputs": [
    {
     "data": {
      "text/html": [
       "<div>\n",
       "<style scoped>\n",
       "    .dataframe tbody tr th:only-of-type {\n",
       "        vertical-align: middle;\n",
       "    }\n",
       "\n",
       "    .dataframe tbody tr th {\n",
       "        vertical-align: top;\n",
       "    }\n",
       "\n",
       "    .dataframe thead th {\n",
       "        text-align: right;\n",
       "    }\n",
       "</style>\n",
       "<table border=\"1\" class=\"dataframe\">\n",
       "  <thead>\n",
       "    <tr style=\"text-align: right;\">\n",
       "      <th></th>\n",
       "      <th>Company/Brand</th>\n",
       "      <th>Sector</th>\n",
       "      <th>Stage</th>\n",
       "      <th>Amount($)</th>\n",
       "      <th>HeadQuarter</th>\n",
       "      <th>What it does</th>\n",
       "      <th>Funding Year</th>\n",
       "      <th>Founded</th>\n",
       "      <th>Founders</th>\n",
       "      <th>Investor</th>\n",
       "      <th>Unnamed: 9</th>\n",
       "    </tr>\n",
       "  </thead>\n",
       "  <tbody>\n",
       "    <tr>\n",
       "      <th>2869</th>\n",
       "      <td>Proeon</td>\n",
       "      <td>Food Production</td>\n",
       "      <td>Seed</td>\n",
       "      <td>$2000000</td>\n",
       "      <td>Pune</td>\n",
       "      <td>Innovating plant protein ingredients with supe...</td>\n",
       "      <td>2021</td>\n",
       "      <td>2018.0</td>\n",
       "      <td>Ashish Korde, Kevin Parekh</td>\n",
       "      <td>Shaival Desai, Flowstate Ventures</td>\n",
       "      <td>NaN</td>\n",
       "    </tr>\n",
       "    <tr>\n",
       "      <th>2870</th>\n",
       "      <td>InfyU Labs</td>\n",
       "      <td>AgriTech</td>\n",
       "      <td>Seed</td>\n",
       "      <td>$200000</td>\n",
       "      <td>Gandhinagar</td>\n",
       "      <td>InfyU Labs is a team of dedicated professional...</td>\n",
       "      <td>2021</td>\n",
       "      <td>2019.0</td>\n",
       "      <td>Amit Srivastava, Ankit Chauhan</td>\n",
       "      <td>IAN</td>\n",
       "      <td>NaN</td>\n",
       "    </tr>\n",
       "    <tr>\n",
       "      <th>2871</th>\n",
       "      <td>TechEagle</td>\n",
       "      <td>Aviation &amp; Aerospace</td>\n",
       "      <td>Seed</td>\n",
       "      <td>$500000</td>\n",
       "      <td>Gurugram</td>\n",
       "      <td>Safe, secure &amp; reliable On-Demand Drone delive...</td>\n",
       "      <td>2021</td>\n",
       "      <td>2015.0</td>\n",
       "      <td>Vikram Singh Meena</td>\n",
       "      <td>India Accelerator</td>\n",
       "      <td>NaN</td>\n",
       "    </tr>\n",
       "    <tr>\n",
       "      <th>2872</th>\n",
       "      <td>Voxelgrids</td>\n",
       "      <td>Deeptech</td>\n",
       "      <td>NaN</td>\n",
       "      <td>$5000000</td>\n",
       "      <td>Bangalore</td>\n",
       "      <td>Voxelgrids is an Magnetic Resonance Imaging te...</td>\n",
       "      <td>2021</td>\n",
       "      <td>2017.0</td>\n",
       "      <td>Arjun Arunachalam</td>\n",
       "      <td>Zoho</td>\n",
       "      <td>NaN</td>\n",
       "    </tr>\n",
       "    <tr>\n",
       "      <th>2873</th>\n",
       "      <td>Cogos Technologies</td>\n",
       "      <td>Logistics &amp; Supply Chain</td>\n",
       "      <td>Pre-series A</td>\n",
       "      <td>$2000000</td>\n",
       "      <td>Bangalore</td>\n",
       "      <td>A smart-tech-enabled platform offering a one-s...</td>\n",
       "      <td>2021</td>\n",
       "      <td>2016.0</td>\n",
       "      <td>Prasad Sreeram</td>\n",
       "      <td>Transworld Group</td>\n",
       "      <td>NaN</td>\n",
       "    </tr>\n",
       "    <tr>\n",
       "      <th>2874</th>\n",
       "      <td>Gigforce</td>\n",
       "      <td>Staffing &amp; Recruiting</td>\n",
       "      <td>Pre-series A</td>\n",
       "      <td>$3000000</td>\n",
       "      <td>Gurugram</td>\n",
       "      <td>A gig/on-demand staffing company.</td>\n",
       "      <td>2021</td>\n",
       "      <td>2019.0</td>\n",
       "      <td>Chirag Mittal, Anirudh Syal</td>\n",
       "      <td>Endiya Partners</td>\n",
       "      <td>NaN</td>\n",
       "    </tr>\n",
       "    <tr>\n",
       "      <th>2875</th>\n",
       "      <td>Vahdam</td>\n",
       "      <td>Food &amp; Beverages</td>\n",
       "      <td>Series D</td>\n",
       "      <td>$20000000</td>\n",
       "      <td>New Delhi</td>\n",
       "      <td>VAHDAM is among the world’s first vertically i...</td>\n",
       "      <td>2021</td>\n",
       "      <td>2015.0</td>\n",
       "      <td>Bala Sarda</td>\n",
       "      <td>IIFL AMC</td>\n",
       "      <td>NaN</td>\n",
       "    </tr>\n",
       "    <tr>\n",
       "      <th>2876</th>\n",
       "      <td>Leap Finance</td>\n",
       "      <td>Financial Services</td>\n",
       "      <td>Series C</td>\n",
       "      <td>$55000000</td>\n",
       "      <td>Bangalore</td>\n",
       "      <td>International education loans for high potenti...</td>\n",
       "      <td>2021</td>\n",
       "      <td>2019.0</td>\n",
       "      <td>Arnav Kumar, Vaibhav Singh</td>\n",
       "      <td>Owl Ventures</td>\n",
       "      <td>NaN</td>\n",
       "    </tr>\n",
       "    <tr>\n",
       "      <th>2877</th>\n",
       "      <td>CollegeDekho</td>\n",
       "      <td>EdTech</td>\n",
       "      <td>Series B</td>\n",
       "      <td>$26000000</td>\n",
       "      <td>Gurugram</td>\n",
       "      <td>Collegedekho.com is Student’s Partner, Friend ...</td>\n",
       "      <td>2021</td>\n",
       "      <td>2015.0</td>\n",
       "      <td>Ruchir Arora</td>\n",
       "      <td>Winter Capital, ETS, Man Capital</td>\n",
       "      <td>NaN</td>\n",
       "    </tr>\n",
       "    <tr>\n",
       "      <th>2878</th>\n",
       "      <td>WeRize</td>\n",
       "      <td>Financial Services</td>\n",
       "      <td>Series A</td>\n",
       "      <td>$8000000</td>\n",
       "      <td>Bangalore</td>\n",
       "      <td>India’s first socially distributed full stack ...</td>\n",
       "      <td>2021</td>\n",
       "      <td>2019.0</td>\n",
       "      <td>Vishal Chopra, Himanshu Gupta</td>\n",
       "      <td>3one4 Capital, Kalaari Capital</td>\n",
       "      <td>NaN</td>\n",
       "    </tr>\n",
       "  </tbody>\n",
       "</table>\n",
       "</div>"
      ],
      "text/plain": [
       "           Company/Brand                    Sector         Stage  Amount($)  \\\n",
       "2869              Proeon           Food Production          Seed   $2000000   \n",
       "2870          InfyU Labs                  AgriTech          Seed    $200000   \n",
       "2871           TechEagle      Aviation & Aerospace          Seed    $500000   \n",
       "2872          Voxelgrids                  Deeptech           NaN   $5000000   \n",
       "2873  Cogos Technologies  Logistics & Supply Chain  Pre-series A   $2000000   \n",
       "2874            Gigforce     Staffing & Recruiting  Pre-series A   $3000000   \n",
       "2875              Vahdam          Food & Beverages      Series D  $20000000   \n",
       "2876        Leap Finance        Financial Services      Series C  $55000000   \n",
       "2877        CollegeDekho                    EdTech      Series B  $26000000   \n",
       "2878              WeRize        Financial Services      Series A   $8000000   \n",
       "\n",
       "      HeadQuarter                                       What it does  \\\n",
       "2869         Pune  Innovating plant protein ingredients with supe...   \n",
       "2870  Gandhinagar  InfyU Labs is a team of dedicated professional...   \n",
       "2871     Gurugram  Safe, secure & reliable On-Demand Drone delive...   \n",
       "2872    Bangalore  Voxelgrids is an Magnetic Resonance Imaging te...   \n",
       "2873    Bangalore  A smart-tech-enabled platform offering a one-s...   \n",
       "2874     Gurugram                  A gig/on-demand staffing company.   \n",
       "2875    New Delhi  VAHDAM is among the world’s first vertically i...   \n",
       "2876    Bangalore  International education loans for high potenti...   \n",
       "2877     Gurugram  Collegedekho.com is Student’s Partner, Friend ...   \n",
       "2878    Bangalore  India’s first socially distributed full stack ...   \n",
       "\n",
       "      Funding Year Founded                        Founders  \\\n",
       "2869          2021  2018.0      Ashish Korde, Kevin Parekh   \n",
       "2870          2021  2019.0  Amit Srivastava, Ankit Chauhan   \n",
       "2871          2021  2015.0              Vikram Singh Meena   \n",
       "2872          2021  2017.0               Arjun Arunachalam   \n",
       "2873          2021  2016.0                  Prasad Sreeram   \n",
       "2874          2021  2019.0     Chirag Mittal, Anirudh Syal   \n",
       "2875          2021  2015.0                      Bala Sarda   \n",
       "2876          2021  2019.0      Arnav Kumar, Vaibhav Singh   \n",
       "2877          2021  2015.0                    Ruchir Arora   \n",
       "2878          2021  2019.0   Vishal Chopra, Himanshu Gupta   \n",
       "\n",
       "                               Investor Unnamed: 9  \n",
       "2869  Shaival Desai, Flowstate Ventures        NaN  \n",
       "2870                                IAN        NaN  \n",
       "2871                  India Accelerator        NaN  \n",
       "2872                               Zoho        NaN  \n",
       "2873                   Transworld Group        NaN  \n",
       "2874                    Endiya Partners        NaN  \n",
       "2875                           IIFL AMC        NaN  \n",
       "2876                       Owl Ventures        NaN  \n",
       "2877   Winter Capital, ETS, Man Capital        NaN  \n",
       "2878     3one4 Capital, Kalaari Capital        NaN  "
      ]
     },
     "execution_count": 12,
     "metadata": {},
     "output_type": "execute_result"
    }
   ],
   "source": [
    "big_frame.tail(10)"
   ]
  },
  {
   "attachments": {},
   "cell_type": "markdown",
   "metadata": {},
   "source": [
    "### Data Inspection"
   ]
  },
  {
   "cell_type": "code",
   "execution_count": 13,
   "metadata": {},
   "outputs": [
    {
     "data": {
      "text/plain": [
       "(2879, 11)"
      ]
     },
     "execution_count": 13,
     "metadata": {},
     "output_type": "execute_result"
    }
   ],
   "source": [
    "big_frame.shape"
   ]
  },
  {
   "cell_type": "code",
   "execution_count": 14,
   "metadata": {},
   "outputs": [
    {
     "name": "stdout",
     "output_type": "stream",
     "text": [
      "<class 'pandas.core.frame.DataFrame'>\n",
      "RangeIndex: 2879 entries, 0 to 2878\n",
      "Data columns (total 11 columns):\n",
      " #   Column         Non-Null Count  Dtype \n",
      "---  ------         --------------  ----- \n",
      " 0   Company/Brand  2879 non-null   object\n",
      " 1   Sector         2861 non-null   object\n",
      " 2   Stage          1941 non-null   object\n",
      " 3   Amount($)      2873 non-null   object\n",
      " 4   HeadQuarter    2765 non-null   object\n",
      " 5   What it does   2879 non-null   object\n",
      " 6   Funding Year   2879 non-null   int64 \n",
      " 7   Founded        2111 non-null   object\n",
      " 8   Founders       2334 non-null   object\n",
      " 9   Investor       2253 non-null   object\n",
      " 10  Unnamed: 9     2 non-null      object\n",
      "dtypes: int64(1), object(10)\n",
      "memory usage: 247.5+ KB\n"
     ]
    }
   ],
   "source": [
    "big_frame.info()"
   ]
  },
  {
   "attachments": {},
   "cell_type": "markdown",
   "metadata": {},
   "source": [
    "Upon examining the dataframe, I discovered that some of the columns, such as \"Amount($)\" and \"Founded\" columns contain values that should be numerical but are currently strings (objects). I will need to convert the datatypes of the values in these columns to numerical (float and/or integer)."
   ]
  },
  {
   "cell_type": "code",
   "execution_count": 15,
   "metadata": {},
   "outputs": [
    {
     "data": {
      "text/plain": [
       "0        250000.0\n",
       "1        584000.0\n",
       "2        949000.0\n",
       "3       2000000.0\n",
       "4             0.0\n",
       "          ...    \n",
       "2874     $3000000\n",
       "2875    $20000000\n",
       "2876    $55000000\n",
       "2877    $26000000\n",
       "2878     $8000000\n",
       "Name: Amount($), Length: 2879, dtype: object"
      ]
     },
     "execution_count": 15,
     "metadata": {},
     "output_type": "execute_result"
    }
   ],
   "source": [
    "# clean and convert the datatype of the values in the Amount($) column to float\n",
    "big_frame['Amount($)']"
   ]
  },
  {
   "cell_type": "code",
   "execution_count": 16,
   "metadata": {},
   "outputs": [
    {
     "data": {
      "text/plain": [
       "0"
      ]
     },
     "execution_count": 16,
     "metadata": {},
     "output_type": "execute_result"
    }
   ],
   "source": [
    "rupee_filter = big_frame['Amount($)'].str.contains('₹')\n",
    "rupee_filter.sum()"
   ]
  },
  {
   "cell_type": "code",
   "execution_count": 17,
   "metadata": {},
   "outputs": [
    {
     "data": {
      "text/html": [
       "<div>\n",
       "<style scoped>\n",
       "    .dataframe tbody tr th:only-of-type {\n",
       "        vertical-align: middle;\n",
       "    }\n",
       "\n",
       "    .dataframe tbody tr th {\n",
       "        vertical-align: top;\n",
       "    }\n",
       "\n",
       "    .dataframe thead th {\n",
       "        text-align: right;\n",
       "    }\n",
       "</style>\n",
       "<table border=\"1\" class=\"dataframe\">\n",
       "  <thead>\n",
       "    <tr style=\"text-align: right;\">\n",
       "      <th></th>\n",
       "      <th>Company/Brand</th>\n",
       "      <th>Sector</th>\n",
       "      <th>Stage</th>\n",
       "      <th>Amount($)</th>\n",
       "      <th>HeadQuarter</th>\n",
       "      <th>What it does</th>\n",
       "      <th>Funding Year</th>\n",
       "      <th>Founded</th>\n",
       "      <th>Founders</th>\n",
       "      <th>Investor</th>\n",
       "      <th>Unnamed: 9</th>\n",
       "    </tr>\n",
       "  </thead>\n",
       "  <tbody>\n",
       "    <tr>\n",
       "      <th>1912</th>\n",
       "      <td>Fullife Healthcare</td>\n",
       "      <td>Primary Business is Development and Manufactur...</td>\n",
       "      <td>NaN</td>\n",
       "      <td>Series C</td>\n",
       "      <td>Pharmaceuticals\\t#REF!</td>\n",
       "      <td>Varun Khanna</td>\n",
       "      <td>2021</td>\n",
       "      <td>2009.0</td>\n",
       "      <td>Morgan Stanley Private Equity Asia</td>\n",
       "      <td>$22000000</td>\n",
       "      <td>NaN</td>\n",
       "    </tr>\n",
       "    <tr>\n",
       "      <th>1926</th>\n",
       "      <td>Fullife Healthcare</td>\n",
       "      <td>Primary Business is Development and Manufactur...</td>\n",
       "      <td>NaN</td>\n",
       "      <td>Series C</td>\n",
       "      <td>Pharmaceuticals\\t#REF!</td>\n",
       "      <td>Varun Khanna</td>\n",
       "      <td>2021</td>\n",
       "      <td>2009.0</td>\n",
       "      <td>Morgan Stanley Private Equity Asia</td>\n",
       "      <td>$22000000</td>\n",
       "      <td>NaN</td>\n",
       "    </tr>\n",
       "  </tbody>\n",
       "</table>\n",
       "</div>"
      ],
      "text/plain": [
       "           Company/Brand                                             Sector  \\\n",
       "1912  Fullife Healthcare  Primary Business is Development and Manufactur...   \n",
       "1926  Fullife Healthcare  Primary Business is Development and Manufactur...   \n",
       "\n",
       "     Stage Amount($)             HeadQuarter  What it does  Funding Year  \\\n",
       "1912   NaN  Series C  Pharmaceuticals\\t#REF!  Varun Khanna          2021   \n",
       "1926   NaN  Series C  Pharmaceuticals\\t#REF!  Varun Khanna          2021   \n",
       "\n",
       "     Founded                            Founders   Investor Unnamed: 9  \n",
       "1912  2009.0  Morgan Stanley Private Equity Asia  $22000000        NaN  \n",
       "1926  2009.0  Morgan Stanley Private Equity Asia  $22000000        NaN  "
      ]
     },
     "execution_count": 17,
     "metadata": {},
     "output_type": "execute_result"
    }
   ],
   "source": [
    "shifted = big_frame['Amount($)'] == 'Series C'\n",
    "big_frame[shifted]"
   ]
  },
  {
   "cell_type": "code",
   "execution_count": 18,
   "metadata": {},
   "outputs": [
    {
     "data": {
      "text/html": [
       "<div>\n",
       "<style scoped>\n",
       "    .dataframe tbody tr th:only-of-type {\n",
       "        vertical-align: middle;\n",
       "    }\n",
       "\n",
       "    .dataframe tbody tr th {\n",
       "        vertical-align: top;\n",
       "    }\n",
       "\n",
       "    .dataframe thead th {\n",
       "        text-align: right;\n",
       "    }\n",
       "</style>\n",
       "<table border=\"1\" class=\"dataframe\">\n",
       "  <thead>\n",
       "    <tr style=\"text-align: right;\">\n",
       "      <th></th>\n",
       "      <th>Company/Brand</th>\n",
       "      <th>Sector</th>\n",
       "      <th>Stage</th>\n",
       "      <th>Amount($)</th>\n",
       "      <th>HeadQuarter</th>\n",
       "      <th>What it does</th>\n",
       "      <th>Funding Year</th>\n",
       "      <th>Founded</th>\n",
       "      <th>Founders</th>\n",
       "      <th>Investor</th>\n",
       "      <th>Unnamed: 9</th>\n",
       "    </tr>\n",
       "  </thead>\n",
       "  <tbody>\n",
       "    <tr>\n",
       "      <th>1912</th>\n",
       "      <td>Fullife Healthcare</td>\n",
       "      <td>Pharmaceuticals</td>\n",
       "      <td>Series C</td>\n",
       "      <td>$22000000</td>\n",
       "      <td>NaN</td>\n",
       "      <td>Primary Business is Development and Manufactur...</td>\n",
       "      <td>2021</td>\n",
       "      <td>2009.0</td>\n",
       "      <td>Varun Khanna</td>\n",
       "      <td>Morgan Stanley Private Equity Asia</td>\n",
       "      <td>NaN</td>\n",
       "    </tr>\n",
       "    <tr>\n",
       "      <th>1926</th>\n",
       "      <td>Fullife Healthcare</td>\n",
       "      <td>Pharmaceuticals</td>\n",
       "      <td>Series C</td>\n",
       "      <td>$22000000</td>\n",
       "      <td>NaN</td>\n",
       "      <td>Primary Business is Development and Manufactur...</td>\n",
       "      <td>2021</td>\n",
       "      <td>2009.0</td>\n",
       "      <td>Varun Khanna</td>\n",
       "      <td>Morgan Stanley Private Equity Asia</td>\n",
       "      <td>NaN</td>\n",
       "    </tr>\n",
       "  </tbody>\n",
       "</table>\n",
       "</div>"
      ],
      "text/plain": [
       "           Company/Brand           Sector     Stage  Amount($) HeadQuarter  \\\n",
       "1912  Fullife Healthcare  Pharmaceuticals  Series C  $22000000         NaN   \n",
       "1926  Fullife Healthcare  Pharmaceuticals  Series C  $22000000         NaN   \n",
       "\n",
       "                                           What it does  Funding Year Founded  \\\n",
       "1912  Primary Business is Development and Manufactur...          2021  2009.0   \n",
       "1926  Primary Business is Development and Manufactur...          2021  2009.0   \n",
       "\n",
       "          Founders                            Investor Unnamed: 9  \n",
       "1912  Varun Khanna  Morgan Stanley Private Equity Asia        NaN  \n",
       "1926  Varun Khanna  Morgan Stanley Private Equity Asia        NaN  "
      ]
     },
     "execution_count": 18,
     "metadata": {},
     "output_type": "execute_result"
    }
   ],
   "source": [
    "big_frame.loc[shifted, 'HeadQuarter'] = big_frame.loc[shifted, 'HeadQuarter'].apply(lambda x: str(x).replace('Pharmaceuticals\\t#REF!', str(np.nan))).astype(float)\n",
    "big_frame.loc[shifted, 'Sector'] = big_frame.loc[shifted, 'Sector'].apply(lambda x: str(x).replace('Primary Business is Development and Manufacturing of Novel Healthcare Products in Effervescent forms using imported propriety ingredients.', 'Pharmaceuticals'))\n",
    "big_frame.loc[shifted, 'What it does'] = big_frame.loc[shifted, 'What it does'].apply(lambda x: str(x).replace('Varun Khanna', 'Primary Business is Development and Manufacturing of Novel Healthcare Products in Effervescent forms using imported propriety ingredients.'))\n",
    "big_frame.loc[shifted, 'Amount($)'] = big_frame.loc[shifted, 'Amount($)'].apply(lambda x: str(x).replace('Series C', '$22000000'))\n",
    "big_frame.loc[shifted, 'Stage'] = big_frame.loc[shifted, 'Stage'].apply(lambda x: str(x).replace(str(np.nan), 'Series C'))\n",
    "big_frame.loc[shifted, 'Founders'] = big_frame.loc[shifted, 'Founders'].apply(lambda x: str(x).replace('Morgan Stanley Private Equity Asia', 'Varun Khanna'))\n",
    "big_frame.loc[shifted, 'Investor'] = big_frame.loc[shifted, 'Investor'].apply(lambda x: str(x).replace('$22000000', 'Morgan Stanley Private Equity Asia'))\n",
    "big_frame[shifted]"
   ]
  },
  {
   "cell_type": "code",
   "execution_count": 19,
   "metadata": {},
   "outputs": [
    {
     "data": {
      "text/html": [
       "<div>\n",
       "<style scoped>\n",
       "    .dataframe tbody tr th:only-of-type {\n",
       "        vertical-align: middle;\n",
       "    }\n",
       "\n",
       "    .dataframe tbody tr th {\n",
       "        vertical-align: top;\n",
       "    }\n",
       "\n",
       "    .dataframe thead th {\n",
       "        text-align: right;\n",
       "    }\n",
       "</style>\n",
       "<table border=\"1\" class=\"dataframe\">\n",
       "  <thead>\n",
       "    <tr style=\"text-align: right;\">\n",
       "      <th></th>\n",
       "      <th>Company/Brand</th>\n",
       "      <th>Sector</th>\n",
       "      <th>Stage</th>\n",
       "      <th>Amount($)</th>\n",
       "      <th>HeadQuarter</th>\n",
       "      <th>What it does</th>\n",
       "      <th>Funding Year</th>\n",
       "      <th>Founded</th>\n",
       "      <th>Founders</th>\n",
       "      <th>Investor</th>\n",
       "      <th>Unnamed: 9</th>\n",
       "    </tr>\n",
       "  </thead>\n",
       "  <tbody>\n",
       "    <tr>\n",
       "      <th>1768</th>\n",
       "      <td>FanPlay</td>\n",
       "      <td>Computer Games</td>\n",
       "      <td>$1200000</td>\n",
       "      <td>Upsparks</td>\n",
       "      <td>Computer Games</td>\n",
       "      <td>A real money game app specializing in trivia g...</td>\n",
       "      <td>2021</td>\n",
       "      <td>2020.0</td>\n",
       "      <td>YC W21</td>\n",
       "      <td>Pritesh Kumar, Bharat Gupta</td>\n",
       "      <td>NaN</td>\n",
       "    </tr>\n",
       "    <tr>\n",
       "      <th>1781</th>\n",
       "      <td>FanPlay</td>\n",
       "      <td>Computer Games</td>\n",
       "      <td>$1200000</td>\n",
       "      <td>Upsparks</td>\n",
       "      <td>Computer Games</td>\n",
       "      <td>A real money game app specializing in trivia g...</td>\n",
       "      <td>2021</td>\n",
       "      <td>2020.0</td>\n",
       "      <td>YC W21</td>\n",
       "      <td>Pritesh Kumar, Bharat Gupta</td>\n",
       "      <td>NaN</td>\n",
       "    </tr>\n",
       "  </tbody>\n",
       "</table>\n",
       "</div>"
      ],
      "text/plain": [
       "     Company/Brand          Sector     Stage Amount($)     HeadQuarter  \\\n",
       "1768       FanPlay  Computer Games  $1200000  Upsparks  Computer Games   \n",
       "1781       FanPlay  Computer Games  $1200000  Upsparks  Computer Games   \n",
       "\n",
       "                                           What it does  Funding Year Founded  \\\n",
       "1768  A real money game app specializing in trivia g...          2021  2020.0   \n",
       "1781  A real money game app specializing in trivia g...          2021  2020.0   \n",
       "\n",
       "     Founders                     Investor Unnamed: 9  \n",
       "1768   YC W21  Pritesh Kumar, Bharat Gupta        NaN  \n",
       "1781   YC W21  Pritesh Kumar, Bharat Gupta        NaN  "
      ]
     },
     "execution_count": 19,
     "metadata": {},
     "output_type": "execute_result"
    }
   ],
   "source": [
    "shifted = big_frame['Amount($)'] == 'Upsparks'\n",
    "big_frame[shifted]"
   ]
  },
  {
   "cell_type": "code",
   "execution_count": 20,
   "metadata": {},
   "outputs": [
    {
     "data": {
      "text/html": [
       "<div>\n",
       "<style scoped>\n",
       "    .dataframe tbody tr th:only-of-type {\n",
       "        vertical-align: middle;\n",
       "    }\n",
       "\n",
       "    .dataframe tbody tr th {\n",
       "        vertical-align: top;\n",
       "    }\n",
       "\n",
       "    .dataframe thead th {\n",
       "        text-align: right;\n",
       "    }\n",
       "</style>\n",
       "<table border=\"1\" class=\"dataframe\">\n",
       "  <thead>\n",
       "    <tr style=\"text-align: right;\">\n",
       "      <th></th>\n",
       "      <th>Company/Brand</th>\n",
       "      <th>Sector</th>\n",
       "      <th>Stage</th>\n",
       "      <th>Amount($)</th>\n",
       "      <th>HeadQuarter</th>\n",
       "      <th>What it does</th>\n",
       "      <th>Funding Year</th>\n",
       "      <th>Founded</th>\n",
       "      <th>Founders</th>\n",
       "      <th>Investor</th>\n",
       "      <th>Unnamed: 9</th>\n",
       "    </tr>\n",
       "  </thead>\n",
       "  <tbody>\n",
       "    <tr>\n",
       "      <th>1768</th>\n",
       "      <td>FanPlay</td>\n",
       "      <td>Computer Games</td>\n",
       "      <td>NaN</td>\n",
       "      <td>$1200000</td>\n",
       "      <td>NaN</td>\n",
       "      <td>A real money game app specializing in trivia g...</td>\n",
       "      <td>2021</td>\n",
       "      <td>2020.0</td>\n",
       "      <td>Pritesh Kumar, Bharat Gupta</td>\n",
       "      <td>Upsparks</td>\n",
       "      <td>NaN</td>\n",
       "    </tr>\n",
       "    <tr>\n",
       "      <th>1781</th>\n",
       "      <td>FanPlay</td>\n",
       "      <td>Computer Games</td>\n",
       "      <td>NaN</td>\n",
       "      <td>$1200000</td>\n",
       "      <td>NaN</td>\n",
       "      <td>A real money game app specializing in trivia g...</td>\n",
       "      <td>2021</td>\n",
       "      <td>2020.0</td>\n",
       "      <td>Pritesh Kumar, Bharat Gupta</td>\n",
       "      <td>Upsparks</td>\n",
       "      <td>NaN</td>\n",
       "    </tr>\n",
       "  </tbody>\n",
       "</table>\n",
       "</div>"
      ],
      "text/plain": [
       "     Company/Brand          Sector Stage Amount($) HeadQuarter  \\\n",
       "1768       FanPlay  Computer Games   NaN  $1200000         NaN   \n",
       "1781       FanPlay  Computer Games   NaN  $1200000         NaN   \n",
       "\n",
       "                                           What it does  Funding Year Founded  \\\n",
       "1768  A real money game app specializing in trivia g...          2021  2020.0   \n",
       "1781  A real money game app specializing in trivia g...          2021  2020.0   \n",
       "\n",
       "                         Founders  Investor Unnamed: 9  \n",
       "1768  Pritesh Kumar, Bharat Gupta  Upsparks        NaN  \n",
       "1781  Pritesh Kumar, Bharat Gupta  Upsparks        NaN  "
      ]
     },
     "execution_count": 20,
     "metadata": {},
     "output_type": "execute_result"
    }
   ],
   "source": [
    "big_frame.loc[shifted, 'HeadQuarter'] = big_frame.loc[shifted, 'HeadQuarter'].apply(lambda x: str(x).replace('Computer Games', str(np.nan))).astype(float)\n",
    "big_frame.loc[shifted, 'Amount($)'] = big_frame.loc[shifted, 'Amount($)'].apply(lambda x: str(x).replace('Upsparks', '$1200000'))\n",
    "big_frame.loc[shifted, 'Stage'] = big_frame.loc[shifted, 'Stage'].apply(lambda x: str(x).replace('$1200000', str(np.nan))).astype(float)\n",
    "big_frame.loc[shifted, 'Founders'] = big_frame.loc[shifted, 'Founders'].apply(lambda x: str(x).replace('YC W21', 'Pritesh Kumar, Bharat Gupta'))\n",
    "big_frame.loc[shifted, 'Investor'] = big_frame.loc[shifted, 'Investor'].apply(lambda x: str(x).replace('Pritesh Kumar, Bharat Gupta', 'Upsparks'))\n",
    "big_frame[shifted]"
   ]
  },
  {
   "cell_type": "code",
   "execution_count": 21,
   "metadata": {},
   "outputs": [
    {
     "data": {
      "text/html": [
       "<div>\n",
       "<style scoped>\n",
       "    .dataframe tbody tr th:only-of-type {\n",
       "        vertical-align: middle;\n",
       "    }\n",
       "\n",
       "    .dataframe tbody tr th {\n",
       "        vertical-align: top;\n",
       "    }\n",
       "\n",
       "    .dataframe thead th {\n",
       "        text-align: right;\n",
       "    }\n",
       "</style>\n",
       "<table border=\"1\" class=\"dataframe\">\n",
       "  <thead>\n",
       "    <tr style=\"text-align: right;\">\n",
       "      <th></th>\n",
       "      <th>Company/Brand</th>\n",
       "      <th>Sector</th>\n",
       "      <th>Stage</th>\n",
       "      <th>Amount($)</th>\n",
       "      <th>HeadQuarter</th>\n",
       "      <th>What it does</th>\n",
       "      <th>Funding Year</th>\n",
       "      <th>Founded</th>\n",
       "      <th>Founders</th>\n",
       "      <th>Investor</th>\n",
       "      <th>Unnamed: 9</th>\n",
       "    </tr>\n",
       "  </thead>\n",
       "  <tbody>\n",
       "    <tr>\n",
       "      <th>1927</th>\n",
       "      <td>MoEVing</td>\n",
       "      <td>MoEVing is India's only Electric Mobility focu...</td>\n",
       "      <td>NaN</td>\n",
       "      <td>Seed</td>\n",
       "      <td>Gurugram\\t#REF!</td>\n",
       "      <td>Vikash Mishra, Mragank Jain</td>\n",
       "      <td>2021</td>\n",
       "      <td>2021.0</td>\n",
       "      <td>Anshuman Maheshwary, Dr Srihari Raju Kalidindi</td>\n",
       "      <td>$5000000</td>\n",
       "      <td>NaN</td>\n",
       "    </tr>\n",
       "    <tr>\n",
       "      <th>2818</th>\n",
       "      <td>Godamwale</td>\n",
       "      <td>Logistics &amp; Supply Chain</td>\n",
       "      <td>NaN</td>\n",
       "      <td>Seed</td>\n",
       "      <td>Mumbai</td>\n",
       "      <td>Godamwale is tech enabled integrated logistics...</td>\n",
       "      <td>2021</td>\n",
       "      <td>2016.0</td>\n",
       "      <td>Basant Kumar, Vivek Tiwari, Ranbir Nandan</td>\n",
       "      <td>1000000\\t#REF!</td>\n",
       "      <td>NaN</td>\n",
       "    </tr>\n",
       "  </tbody>\n",
       "</table>\n",
       "</div>"
      ],
      "text/plain": [
       "     Company/Brand                                             Sector Stage  \\\n",
       "1927       MoEVing  MoEVing is India's only Electric Mobility focu...   NaN   \n",
       "2818     Godamwale                           Logistics & Supply Chain   NaN   \n",
       "\n",
       "     Amount($)      HeadQuarter  \\\n",
       "1927      Seed  Gurugram\\t#REF!   \n",
       "2818      Seed           Mumbai   \n",
       "\n",
       "                                           What it does  Funding Year Founded  \\\n",
       "1927                        Vikash Mishra, Mragank Jain          2021  2021.0   \n",
       "2818  Godamwale is tech enabled integrated logistics...          2021  2016.0   \n",
       "\n",
       "                                            Founders        Investor  \\\n",
       "1927  Anshuman Maheshwary, Dr Srihari Raju Kalidindi        $5000000   \n",
       "2818       Basant Kumar, Vivek Tiwari, Ranbir Nandan  1000000\\t#REF!   \n",
       "\n",
       "     Unnamed: 9  \n",
       "1927        NaN  \n",
       "2818        NaN  "
      ]
     },
     "execution_count": 21,
     "metadata": {},
     "output_type": "execute_result"
    }
   ],
   "source": [
    "shifted = big_frame['Amount($)'] == 'Seed'\n",
    "big_frame[shifted]"
   ]
  },
  {
   "cell_type": "code",
   "execution_count": 22,
   "metadata": {},
   "outputs": [
    {
     "data": {
      "text/html": [
       "<div>\n",
       "<style scoped>\n",
       "    .dataframe tbody tr th:only-of-type {\n",
       "        vertical-align: middle;\n",
       "    }\n",
       "\n",
       "    .dataframe tbody tr th {\n",
       "        vertical-align: top;\n",
       "    }\n",
       "\n",
       "    .dataframe thead th {\n",
       "        text-align: right;\n",
       "    }\n",
       "</style>\n",
       "<table border=\"1\" class=\"dataframe\">\n",
       "  <thead>\n",
       "    <tr style=\"text-align: right;\">\n",
       "      <th></th>\n",
       "      <th>Company/Brand</th>\n",
       "      <th>Sector</th>\n",
       "      <th>Stage</th>\n",
       "      <th>Amount($)</th>\n",
       "      <th>HeadQuarter</th>\n",
       "      <th>What it does</th>\n",
       "      <th>Funding Year</th>\n",
       "      <th>Founded</th>\n",
       "      <th>Founders</th>\n",
       "      <th>Investor</th>\n",
       "      <th>Unnamed: 9</th>\n",
       "    </tr>\n",
       "  </thead>\n",
       "  <tbody>\n",
       "    <tr>\n",
       "      <th>2208</th>\n",
       "      <td>Little Leap</td>\n",
       "      <td>EdTech</td>\n",
       "      <td>$300000</td>\n",
       "      <td>ah! Ventures</td>\n",
       "      <td>New Delhi</td>\n",
       "      <td>Soft Skills that make Smart Leaders</td>\n",
       "      <td>2021</td>\n",
       "      <td>2020.0</td>\n",
       "      <td>Holistic Development Programs for children in ...</td>\n",
       "      <td>Vishal Gupta</td>\n",
       "      <td>NaN</td>\n",
       "    </tr>\n",
       "  </tbody>\n",
       "</table>\n",
       "</div>"
      ],
      "text/plain": [
       "     Company/Brand  Sector    Stage     Amount($) HeadQuarter  \\\n",
       "2208   Little Leap  EdTech  $300000  ah! Ventures   New Delhi   \n",
       "\n",
       "                             What it does  Funding Year Founded  \\\n",
       "2208  Soft Skills that make Smart Leaders          2021  2020.0   \n",
       "\n",
       "                                               Founders      Investor  \\\n",
       "2208  Holistic Development Programs for children in ...  Vishal Gupta   \n",
       "\n",
       "     Unnamed: 9  \n",
       "2208        NaN  "
      ]
     },
     "execution_count": 22,
     "metadata": {},
     "output_type": "execute_result"
    }
   ],
   "source": [
    "shifted = big_frame['Amount($)'] == 'ah! Ventures'\n",
    "big_frame[shifted]"
   ]
  },
  {
   "cell_type": "code",
   "execution_count": 23,
   "metadata": {},
   "outputs": [
    {
     "data": {
      "text/html": [
       "<div>\n",
       "<style scoped>\n",
       "    .dataframe tbody tr th:only-of-type {\n",
       "        vertical-align: middle;\n",
       "    }\n",
       "\n",
       "    .dataframe tbody tr th {\n",
       "        vertical-align: top;\n",
       "    }\n",
       "\n",
       "    .dataframe thead th {\n",
       "        text-align: right;\n",
       "    }\n",
       "</style>\n",
       "<table border=\"1\" class=\"dataframe\">\n",
       "  <thead>\n",
       "    <tr style=\"text-align: right;\">\n",
       "      <th></th>\n",
       "      <th>Company/Brand</th>\n",
       "      <th>Sector</th>\n",
       "      <th>Stage</th>\n",
       "      <th>Amount($)</th>\n",
       "      <th>HeadQuarter</th>\n",
       "      <th>What it does</th>\n",
       "      <th>Funding Year</th>\n",
       "      <th>Founded</th>\n",
       "      <th>Founders</th>\n",
       "      <th>Investor</th>\n",
       "      <th>Unnamed: 9</th>\n",
       "    </tr>\n",
       "  </thead>\n",
       "  <tbody>\n",
       "    <tr>\n",
       "      <th>2215</th>\n",
       "      <td>AdmitKard</td>\n",
       "      <td>EdTech</td>\n",
       "      <td>NaN</td>\n",
       "      <td>Pre-series A</td>\n",
       "      <td>Noida</td>\n",
       "      <td>A tech solution for end to end career advisory...</td>\n",
       "      <td>2021</td>\n",
       "      <td>2016.0</td>\n",
       "      <td>Vamsi Krishna, Pulkit Jain, Gaurav Munjal\\t#REF!</td>\n",
       "      <td>$1000000</td>\n",
       "      <td>NaN</td>\n",
       "    </tr>\n",
       "  </tbody>\n",
       "</table>\n",
       "</div>"
      ],
      "text/plain": [
       "     Company/Brand  Sector Stage     Amount($) HeadQuarter  \\\n",
       "2215     AdmitKard  EdTech   NaN  Pre-series A       Noida   \n",
       "\n",
       "                                           What it does  Funding Year Founded  \\\n",
       "2215  A tech solution for end to end career advisory...          2021  2016.0   \n",
       "\n",
       "                                              Founders  Investor Unnamed: 9  \n",
       "2215  Vamsi Krishna, Pulkit Jain, Gaurav Munjal\\t#REF!  $1000000        NaN  "
      ]
     },
     "execution_count": 23,
     "metadata": {},
     "output_type": "execute_result"
    }
   ],
   "source": [
    "shifted = big_frame['Amount($)'] == 'Pre-series A'\n",
    "big_frame[shifted]"
   ]
  },
  {
   "cell_type": "code",
   "execution_count": 24,
   "metadata": {},
   "outputs": [
    {
     "data": {
      "text/html": [
       "<div>\n",
       "<style scoped>\n",
       "    .dataframe tbody tr th:only-of-type {\n",
       "        vertical-align: middle;\n",
       "    }\n",
       "\n",
       "    .dataframe tbody tr th {\n",
       "        vertical-align: top;\n",
       "    }\n",
       "\n",
       "    .dataframe thead th {\n",
       "        text-align: right;\n",
       "    }\n",
       "</style>\n",
       "<table border=\"1\" class=\"dataframe\">\n",
       "  <thead>\n",
       "    <tr style=\"text-align: right;\">\n",
       "      <th></th>\n",
       "      <th>Company/Brand</th>\n",
       "      <th>Sector</th>\n",
       "      <th>Stage</th>\n",
       "      <th>Amount($)</th>\n",
       "      <th>HeadQuarter</th>\n",
       "      <th>What it does</th>\n",
       "      <th>Funding Year</th>\n",
       "      <th>Founded</th>\n",
       "      <th>Founders</th>\n",
       "      <th>Investor</th>\n",
       "      <th>Unnamed: 9</th>\n",
       "    </tr>\n",
       "  </thead>\n",
       "  <tbody>\n",
       "  </tbody>\n",
       "</table>\n",
       "</div>"
      ],
      "text/plain": [
       "Empty DataFrame\n",
       "Columns: [Company/Brand, Sector, Stage, Amount($), HeadQuarter, What it does, Funding Year, Founded, Founders, Investor, Unnamed: 9]\n",
       "Index: []"
      ]
     },
     "execution_count": 24,
     "metadata": {},
     "output_type": "execute_result"
    }
   ],
   "source": [
    "shifted = big_frame['Amount($)'] == 'ITO Angel Network LetsVenture'\n",
    "big_frame[shifted]"
   ]
  },
  {
   "cell_type": "code",
   "execution_count": 25,
   "metadata": {},
   "outputs": [
    {
     "data": {
      "text/html": [
       "<div>\n",
       "<style scoped>\n",
       "    .dataframe tbody tr th:only-of-type {\n",
       "        vertical-align: middle;\n",
       "    }\n",
       "\n",
       "    .dataframe tbody tr th {\n",
       "        vertical-align: top;\n",
       "    }\n",
       "\n",
       "    .dataframe thead th {\n",
       "        text-align: right;\n",
       "    }\n",
       "</style>\n",
       "<table border=\"1\" class=\"dataframe\">\n",
       "  <thead>\n",
       "    <tr style=\"text-align: right;\">\n",
       "      <th></th>\n",
       "      <th>Company/Brand</th>\n",
       "      <th>Sector</th>\n",
       "      <th>Stage</th>\n",
       "      <th>Amount($)</th>\n",
       "      <th>HeadQuarter</th>\n",
       "      <th>What it does</th>\n",
       "      <th>Funding Year</th>\n",
       "      <th>Founded</th>\n",
       "      <th>Founders</th>\n",
       "      <th>Investor</th>\n",
       "      <th>Unnamed: 9</th>\n",
       "    </tr>\n",
       "  </thead>\n",
       "  <tbody>\n",
       "  </tbody>\n",
       "</table>\n",
       "</div>"
      ],
      "text/plain": [
       "Empty DataFrame\n",
       "Columns: [Company/Brand, Sector, Stage, Amount($), HeadQuarter, What it does, Funding Year, Founded, Founders, Investor, Unnamed: 9]\n",
       "Index: []"
      ]
     },
     "execution_count": 25,
     "metadata": {},
     "output_type": "execute_result"
    }
   ],
   "source": [
    "shifted = big_frame['Amount($)'] == 'Jnan'\n",
    "big_frame[shifted]"
   ]
  },
  {
   "cell_type": "code",
   "execution_count": 26,
   "metadata": {},
   "outputs": [
    {
     "data": {
      "text/plain": [
       "0         250000.0\n",
       "1         584000.0\n",
       "2         949000.0\n",
       "3        2000000.0\n",
       "4              0.0\n",
       "           ...    \n",
       "2874     3000000.0\n",
       "2875    20000000.0\n",
       "2876    55000000.0\n",
       "2877    26000000.0\n",
       "2878     8000000.0\n",
       "Name: Amount($), Length: 2879, dtype: float64"
      ]
     },
     "execution_count": 26,
     "metadata": {},
     "output_type": "execute_result"
    }
   ],
   "source": [
    "big_frame['Amount($)'] = big_frame['Amount($)'].apply(lambda x : str(x).replace('$', '').replace('₹', '').replace(',', '').replace('—', '0'))\n",
    "big_frame['Amount($)'] = big_frame['Amount($)'].apply(lambda x : str(x).replace('887000 23000000', str(([int(num) for num in '887000 23000000'.split(' ')][0] + [int(num) for num in '887000 23000000'.split(' ')][1])/ 2)))\n",
    "big_frame['Amount($)'] = big_frame['Amount($)'].apply(lambda x : str(x).replace('800000000 to 850000000', str(([int(num) for num in '800000000 to 850000000'.split(' to ')][0] + [int(num) for num in '800000000 to 850000000'.split(' to ')][1])/ 2)))\n",
    "big_frame['Amount($)'] = big_frame['Amount($)'].apply(lambda x : str(x).replace('Undisclosed', str(np.nan)).replace('undisclosed', str(np.nan)).replace('Undiclsosed', str(np.nan)).replace('Undislosed', str(np.nan)))\n",
    "big_frame['Amount($)'] = big_frame['Amount($)'].apply(lambda x : str(x).replace('Upsparks', str(np.nan)).replace('Series C', str(np.nan)).replace('Seed', str(np.nan)).replace('ah! Ventures', str(np.nan)).replace('Pre-series A', str(np.nan)).replace('ITO Angel Network LetsVenture', str(np.nan)).replace('Jnan', str(np.nan)))\n",
    "big_frame['Amount($)'].replace('', 0, inplace = True, regex = True)\n",
    "\n",
    "big_frame['Amount($)'] = big_frame['Amount($)'].astype(float)\n",
    "big_frame['Amount($)']"
   ]
  },
  {
   "cell_type": "code",
   "execution_count": 27,
   "metadata": {},
   "outputs": [
    {
     "data": {
      "text/plain": [
       "0          NaN\n",
       "1          NaN\n",
       "2          NaN\n",
       "3          NaN\n",
       "4          NaN\n",
       "         ...  \n",
       "2874    2019.0\n",
       "2875    2015.0\n",
       "2876    2019.0\n",
       "2877    2015.0\n",
       "2878    2019.0\n",
       "Name: Founded, Length: 2879, dtype: float64"
      ]
     },
     "execution_count": 27,
     "metadata": {},
     "output_type": "execute_result"
    }
   ],
   "source": [
    "# clean and convert the datatype of the values in the Founded column to numerical\n",
    "\n",
    "big_frame['Founded'].replace('-', np.nan, inplace = True, regex = True)\n",
    "big_frame['Founded'].replace('nan', np.nan, inplace = True, regex = True)\n",
    "big_frame['Founded'].replace('np.nan', np.nan, inplace = True, regex = True)\n",
    "big_frame['Founded'] = big_frame['Founded'].astype(float)\n",
    "big_frame['Founded']"
   ]
  },
  {
   "cell_type": "code",
   "execution_count": 28,
   "metadata": {},
   "outputs": [
    {
     "data": {
      "text/html": [
       "<div>\n",
       "<style scoped>\n",
       "    .dataframe tbody tr th:only-of-type {\n",
       "        vertical-align: middle;\n",
       "    }\n",
       "\n",
       "    .dataframe tbody tr th {\n",
       "        vertical-align: top;\n",
       "    }\n",
       "\n",
       "    .dataframe thead th {\n",
       "        text-align: right;\n",
       "    }\n",
       "</style>\n",
       "<table border=\"1\" class=\"dataframe\">\n",
       "  <thead>\n",
       "    <tr style=\"text-align: right;\">\n",
       "      <th></th>\n",
       "      <th>Amount($)</th>\n",
       "      <th>Funding Year</th>\n",
       "      <th>Founded</th>\n",
       "    </tr>\n",
       "  </thead>\n",
       "  <tbody>\n",
       "    <tr>\n",
       "      <th>count</th>\n",
       "      <td>2.472000e+03</td>\n",
       "      <td>2879.000000</td>\n",
       "      <td>2110.000000</td>\n",
       "    </tr>\n",
       "    <tr>\n",
       "      <th>mean</th>\n",
       "      <td>1.137677e+08</td>\n",
       "      <td>2020.023619</td>\n",
       "      <td>2016.079621</td>\n",
       "    </tr>\n",
       "    <tr>\n",
       "      <th>std</th>\n",
       "      <td>3.329785e+09</td>\n",
       "      <td>1.086974</td>\n",
       "      <td>4.368006</td>\n",
       "    </tr>\n",
       "    <tr>\n",
       "      <th>min</th>\n",
       "      <td>0.000000e+00</td>\n",
       "      <td>2018.000000</td>\n",
       "      <td>1963.000000</td>\n",
       "    </tr>\n",
       "    <tr>\n",
       "      <th>25%</th>\n",
       "      <td>6.000000e+05</td>\n",
       "      <td>2020.000000</td>\n",
       "      <td>2015.000000</td>\n",
       "    </tr>\n",
       "    <tr>\n",
       "      <th>50%</th>\n",
       "      <td>2.500000e+06</td>\n",
       "      <td>2020.000000</td>\n",
       "      <td>2017.000000</td>\n",
       "    </tr>\n",
       "    <tr>\n",
       "      <th>75%</th>\n",
       "      <td>1.020500e+07</td>\n",
       "      <td>2021.000000</td>\n",
       "      <td>2019.000000</td>\n",
       "    </tr>\n",
       "    <tr>\n",
       "      <th>max</th>\n",
       "      <td>1.500000e+11</td>\n",
       "      <td>2021.000000</td>\n",
       "      <td>2021.000000</td>\n",
       "    </tr>\n",
       "  </tbody>\n",
       "</table>\n",
       "</div>"
      ],
      "text/plain": [
       "          Amount($)  Funding Year      Founded\n",
       "count  2.472000e+03   2879.000000  2110.000000\n",
       "mean   1.137677e+08   2020.023619  2016.079621\n",
       "std    3.329785e+09      1.086974     4.368006\n",
       "min    0.000000e+00   2018.000000  1963.000000\n",
       "25%    6.000000e+05   2020.000000  2015.000000\n",
       "50%    2.500000e+06   2020.000000  2017.000000\n",
       "75%    1.020500e+07   2021.000000  2019.000000\n",
       "max    1.500000e+11   2021.000000  2021.000000"
      ]
     },
     "execution_count": 28,
     "metadata": {},
     "output_type": "execute_result"
    }
   ],
   "source": [
    "big_frame.describe()"
   ]
  },
  {
   "cell_type": "code",
   "execution_count": 29,
   "metadata": {},
   "outputs": [
    {
     "data": {
      "text/plain": [
       "Company/Brand     object\n",
       "Sector            object\n",
       "Stage             object\n",
       "Amount($)        float64\n",
       "HeadQuarter       object\n",
       "What it does      object\n",
       "Funding Year       int64\n",
       "Founded          float64\n",
       "Founders          object\n",
       "Investor          object\n",
       "Unnamed: 9        object\n",
       "dtype: object"
      ]
     },
     "execution_count": 29,
     "metadata": {},
     "output_type": "execute_result"
    }
   ],
   "source": [
    "big_frame.dtypes"
   ]
  },
  {
   "cell_type": "code",
   "execution_count": 30,
   "metadata": {},
   "outputs": [
    {
     "data": {
      "text/plain": [
       "0             Brand marketing\n",
       "1                 Agriculture\n",
       "2                      Credit\n",
       "3          Financial services\n",
       "4        E-commerce platforms\n",
       "                ...          \n",
       "2874    Staffing & recruiting\n",
       "2875         Food & beverages\n",
       "2876       Financial services\n",
       "2877                   Edtech\n",
       "2878       Financial services\n",
       "Name: Sector, Length: 2879, dtype: object"
      ]
     },
     "execution_count": 30,
     "metadata": {},
     "output_type": "execute_result"
    }
   ],
   "source": [
    "big_frame['Sector'] = big_frame['Sector'].apply(lambda x: str(x).split(',')[0])\n",
    "big_frame['Sector'] = big_frame['Sector'].apply(lambda x: str(x).capitalize())\n",
    "big_frame['Sector']"
   ]
  },
  {
   "cell_type": "code",
   "execution_count": 31,
   "metadata": {},
   "outputs": [
    {
     "data": {
      "text/plain": [
       "0       Bangalore\n",
       "1          Mumbai\n",
       "2         Gurgaon\n",
       "3           Noida\n",
       "4       Hyderabad\n",
       "          ...    \n",
       "2874     Gurugram\n",
       "2875    New delhi\n",
       "2876    Bangalore\n",
       "2877     Gurugram\n",
       "2878    Bangalore\n",
       "Name: HeadQuarter, Length: 2879, dtype: object"
      ]
     },
     "execution_count": 31,
     "metadata": {},
     "output_type": "execute_result"
    }
   ],
   "source": [
    "big_frame['HeadQuarter'] = big_frame['HeadQuarter'].apply(lambda x: str(x).split(',')[0])\n",
    "big_frame['HeadQuarter'] = big_frame['HeadQuarter'].apply(lambda x: str(x).capitalize())\n",
    "big_frame['HeadQuarter']"
   ]
  },
  {
   "cell_type": "code",
   "execution_count": 32,
   "metadata": {},
   "outputs": [
    {
     "data": {
      "text/plain": [
       "Company/Brand       0\n",
       "Sector              0\n",
       "Stage             938\n",
       "Amount($)         407\n",
       "HeadQuarter         0\n",
       "What it does        0\n",
       "Funding Year        0\n",
       "Founded           769\n",
       "Founders          545\n",
       "Investor          626\n",
       "Unnamed: 9       2877\n",
       "dtype: int64"
      ]
     },
     "execution_count": 32,
     "metadata": {},
     "output_type": "execute_result"
    }
   ],
   "source": [
    "\n",
    "big_frame.isna().sum()"
   ]
  },
  {
   "cell_type": "code",
   "execution_count": 33,
   "metadata": {},
   "outputs": [
    {
     "data": {
      "text/plain": [
       "99.93053143452588"
      ]
     },
     "execution_count": 33,
     "metadata": {},
     "output_type": "execute_result"
    }
   ],
   "source": [
    "unnamed_null = big_frame['Unnamed: 9'].isna().sum()\n",
    "(unnamed_null / big_frame.shape[0]) * 100"
   ]
  },
  {
   "attachments": {},
   "cell_type": "markdown",
   "metadata": {},
   "source": [
    "The \"Unnamed: 9\" column has more than 99% missing values. For that reason, I will drop this column"
   ]
  },
  {
   "cell_type": "code",
   "execution_count": 34,
   "metadata": {},
   "outputs": [
    {
     "data": {
      "text/plain": [
       "Index(['Company/Brand', 'Sector', 'Stage', 'Amount($)', 'HeadQuarter',\n",
       "       'What it does', 'Funding Year', 'Founded', 'Founders', 'Investor'],\n",
       "      dtype='object')"
      ]
     },
     "execution_count": 34,
     "metadata": {},
     "output_type": "execute_result"
    }
   ],
   "source": [
    "big_frame.drop(['Unnamed: 9'], axis = 1, inplace = True)\n",
    "big_frame.columns"
   ]
  },
  {
   "cell_type": "code",
   "execution_count": 35,
   "metadata": {},
   "outputs": [
    {
     "data": {
      "text/plain": [
       "23"
      ]
     },
     "execution_count": 35,
     "metadata": {},
     "output_type": "execute_result"
    }
   ],
   "source": [
    "# check for duplicated rows\n",
    "big_frame.duplicated().sum()"
   ]
  },
  {
   "cell_type": "code",
   "execution_count": 36,
   "metadata": {},
   "outputs": [
    {
     "data": {
      "text/plain": [
       "0"
      ]
     },
     "execution_count": 36,
     "metadata": {},
     "output_type": "execute_result"
    }
   ],
   "source": [
    "# check for duplicated columns\n",
    "big_frame.T.duplicated().sum()"
   ]
  },
  {
   "cell_type": "code",
   "execution_count": 37,
   "metadata": {},
   "outputs": [],
   "source": [
    "big_frame = big_frame.drop_duplicates()"
   ]
  },
  {
   "cell_type": "code",
   "execution_count": 38,
   "metadata": {},
   "outputs": [
    {
     "data": {
      "text/plain": [
       "(2856, 10)"
      ]
     },
     "execution_count": 38,
     "metadata": {},
     "output_type": "execute_result"
    }
   ],
   "source": [
    "big_frame.shape"
   ]
  },
  {
   "attachments": {},
   "cell_type": "markdown",
   "metadata": {},
   "source": [
    "### 1. Which sector received the most funding from 2018 to 2021?"
   ]
  },
  {
   "cell_type": "code",
   "execution_count": 39,
   "metadata": {},
   "outputs": [
    {
     "data": {
      "text/html": [
       "<div>\n",
       "<style scoped>\n",
       "    .dataframe tbody tr th:only-of-type {\n",
       "        vertical-align: middle;\n",
       "    }\n",
       "\n",
       "    .dataframe tbody tr th {\n",
       "        vertical-align: top;\n",
       "    }\n",
       "\n",
       "    .dataframe thead th {\n",
       "        text-align: right;\n",
       "    }\n",
       "</style>\n",
       "<table border=\"1\" class=\"dataframe\">\n",
       "  <thead>\n",
       "    <tr style=\"text-align: right;\">\n",
       "      <th></th>\n",
       "      <th>Sector</th>\n",
       "      <th>Amount($)</th>\n",
       "    </tr>\n",
       "  </thead>\n",
       "  <tbody>\n",
       "    <tr>\n",
       "      <th>253</th>\n",
       "      <td>Fintech</td>\n",
       "      <td>1.547826e+11</td>\n",
       "    </tr>\n",
       "  </tbody>\n",
       "</table>\n",
       "</div>"
      ],
      "text/plain": [
       "      Sector     Amount($)\n",
       "253  Fintech  1.547826e+11"
      ]
     },
     "execution_count": 39,
     "metadata": {},
     "output_type": "execute_result"
    }
   ],
   "source": [
    "sector_grp = big_frame.groupby('Sector')\n",
    "funding_by_sector = sector_grp['Amount($)'].sum().reset_index()\n",
    "most_funded_sector = funding_by_sector.sort_values(by = 'Amount($)', ascending = False).head(1)\n",
    "most_funded_sector"
   ]
  },
  {
   "attachments": {},
   "cell_type": "markdown",
   "metadata": {},
   "source": [
    "### 2. How much funding has the fintech sector received in the Indian start-up ecosystem over the same period, compared to other sectors?"
   ]
  },
  {
   "cell_type": "code",
   "execution_count": 40,
   "metadata": {},
   "outputs": [
    {
     "data": {
      "text/html": [
       "<div>\n",
       "<style scoped>\n",
       "    .dataframe tbody tr th:only-of-type {\n",
       "        vertical-align: middle;\n",
       "    }\n",
       "\n",
       "    .dataframe tbody tr th {\n",
       "        vertical-align: top;\n",
       "    }\n",
       "\n",
       "    .dataframe thead th {\n",
       "        text-align: right;\n",
       "    }\n",
       "</style>\n",
       "<table border=\"1\" class=\"dataframe\">\n",
       "  <thead>\n",
       "    <tr style=\"text-align: right;\">\n",
       "      <th></th>\n",
       "      <th>Sector</th>\n",
       "      <th>Amount($)</th>\n",
       "      <th>Percent Funding(%)</th>\n",
       "    </tr>\n",
       "  </thead>\n",
       "  <tbody>\n",
       "    <tr>\n",
       "      <th>253</th>\n",
       "      <td>Fintech</td>\n",
       "      <td>1.547826e+11</td>\n",
       "      <td>55.187467</td>\n",
       "    </tr>\n",
       "  </tbody>\n",
       "</table>\n",
       "</div>"
      ],
      "text/plain": [
       "      Sector     Amount($)  Percent Funding(%)\n",
       "253  Fintech  1.547826e+11           55.187467"
      ]
     },
     "execution_count": 40,
     "metadata": {},
     "output_type": "execute_result"
    }
   ],
   "source": [
    "total_funding_by_sector = funding_by_sector.sort_values(by = 'Amount($)', ascending = False)\n",
    "total_funding_by_sector['Percent Funding(%)'] = (total_funding_by_sector['Amount($)'] / total_funding_by_sector['Amount($)'].sum()) * 100\n",
    "filt = (total_funding_by_sector['Sector'] == 'Fintech')\n",
    "total_funding_by_sector.loc[filt]"
   ]
  },
  {
   "attachments": {},
   "cell_type": "markdown",
   "metadata": {},
   "source": [
    "### 3. Have there been any significant fintech funding deals in the Indian start-up ecosystem from 2018 to 2021?"
   ]
  },
  {
   "cell_type": "code",
   "execution_count": 41,
   "metadata": {},
   "outputs": [
    {
     "data": {
      "text/html": [
       "<div>\n",
       "<style scoped>\n",
       "    .dataframe tbody tr th:only-of-type {\n",
       "        vertical-align: middle;\n",
       "    }\n",
       "\n",
       "    .dataframe tbody tr th {\n",
       "        vertical-align: top;\n",
       "    }\n",
       "\n",
       "    .dataframe thead th {\n",
       "        text-align: right;\n",
       "    }\n",
       "</style>\n",
       "<table border=\"1\" class=\"dataframe\">\n",
       "  <thead>\n",
       "    <tr style=\"text-align: right;\">\n",
       "      <th></th>\n",
       "      <th>Company/Brand</th>\n",
       "      <th>Founded</th>\n",
       "      <th>Sector</th>\n",
       "      <th>Amount($)</th>\n",
       "      <th>Funding Year</th>\n",
       "    </tr>\n",
       "  </thead>\n",
       "  <tbody>\n",
       "    <tr>\n",
       "      <th>1743</th>\n",
       "      <td>Alteria Capital</td>\n",
       "      <td>2018.0</td>\n",
       "      <td>Fintech</td>\n",
       "      <td>1.500000e+11</td>\n",
       "      <td>2021</td>\n",
       "    </tr>\n",
       "  </tbody>\n",
       "</table>\n",
       "</div>"
      ],
      "text/plain": [
       "        Company/Brand  Founded   Sector     Amount($)  Funding Year\n",
       "1743  Alteria Capital   2018.0  Fintech  1.500000e+11          2021"
      ]
     },
     "execution_count": 41,
     "metadata": {},
     "output_type": "execute_result"
    }
   ],
   "source": [
    "fintech_filt = big_frame['Sector'] == 'Fintech'\n",
    "most_significant_fintech_funding = big_frame.loc[fintech_filt, ['Company/Brand', 'Founded', 'Sector', 'Amount($)', 'Funding Year']].sort_values(by = 'Amount($)', ascending = False).head(1)\n",
    "most_significant_fintech_funding"
   ]
  },
  {
   "attachments": {},
   "cell_type": "markdown",
   "metadata": {},
   "source": [
    "### 4. What are the top 10 sectors that had the most funding over the same period?"
   ]
  },
  {
   "cell_type": "code",
   "execution_count": 42,
   "metadata": {},
   "outputs": [
    {
     "data": {
      "text/html": [
       "<div>\n",
       "<style scoped>\n",
       "    .dataframe tbody tr th:only-of-type {\n",
       "        vertical-align: middle;\n",
       "    }\n",
       "\n",
       "    .dataframe tbody tr th {\n",
       "        vertical-align: top;\n",
       "    }\n",
       "\n",
       "    .dataframe thead th {\n",
       "        text-align: right;\n",
       "    }\n",
       "</style>\n",
       "<table border=\"1\" class=\"dataframe\">\n",
       "  <thead>\n",
       "    <tr style=\"text-align: right;\">\n",
       "      <th></th>\n",
       "      <th>Sector</th>\n",
       "      <th>Amount($)</th>\n",
       "      <th>Percent Funding(%)</th>\n",
       "    </tr>\n",
       "  </thead>\n",
       "  <tbody>\n",
       "    <tr>\n",
       "      <th>253</th>\n",
       "      <td>Fintech</td>\n",
       "      <td>1.547826e+11</td>\n",
       "      <td>55.187467</td>\n",
       "    </tr>\n",
       "    <tr>\n",
       "      <th>454</th>\n",
       "      <td>Retail</td>\n",
       "      <td>7.054238e+10</td>\n",
       "      <td>25.151766</td>\n",
       "    </tr>\n",
       "    <tr>\n",
       "      <th>210</th>\n",
       "      <td>Edtech</td>\n",
       "      <td>5.879829e+09</td>\n",
       "      <td>2.096443</td>\n",
       "    </tr>\n",
       "    <tr>\n",
       "      <th>199</th>\n",
       "      <td>E-commerce</td>\n",
       "      <td>3.104598e+09</td>\n",
       "      <td>1.106939</td>\n",
       "    </tr>\n",
       "    <tr>\n",
       "      <th>504</th>\n",
       "      <td>Tech company</td>\n",
       "      <td>3.022700e+09</td>\n",
       "      <td>1.077739</td>\n",
       "    </tr>\n",
       "    <tr>\n",
       "      <th>267</th>\n",
       "      <td>Food delivery</td>\n",
       "      <td>2.673076e+09</td>\n",
       "      <td>0.953081</td>\n",
       "    </tr>\n",
       "    <tr>\n",
       "      <th>51</th>\n",
       "      <td>Automotive</td>\n",
       "      <td>2.250389e+09</td>\n",
       "      <td>0.802372</td>\n",
       "    </tr>\n",
       "    <tr>\n",
       "      <th>400</th>\n",
       "      <td>Multinational conglomerate company</td>\n",
       "      <td>2.200000e+09</td>\n",
       "      <td>0.784406</td>\n",
       "    </tr>\n",
       "    <tr>\n",
       "      <th>252</th>\n",
       "      <td>Financial services</td>\n",
       "      <td>2.080802e+09</td>\n",
       "      <td>0.741907</td>\n",
       "    </tr>\n",
       "    <tr>\n",
       "      <th>308</th>\n",
       "      <td>Hospitality</td>\n",
       "      <td>1.735561e+09</td>\n",
       "      <td>0.618811</td>\n",
       "    </tr>\n",
       "  </tbody>\n",
       "</table>\n",
       "</div>"
      ],
      "text/plain": [
       "                                 Sector     Amount($)  Percent Funding(%)\n",
       "253                             Fintech  1.547826e+11           55.187467\n",
       "454                              Retail  7.054238e+10           25.151766\n",
       "210                              Edtech  5.879829e+09            2.096443\n",
       "199                          E-commerce  3.104598e+09            1.106939\n",
       "504                        Tech company  3.022700e+09            1.077739\n",
       "267                       Food delivery  2.673076e+09            0.953081\n",
       "51                           Automotive  2.250389e+09            0.802372\n",
       "400  Multinational conglomerate company  2.200000e+09            0.784406\n",
       "252                  Financial services  2.080802e+09            0.741907\n",
       "308                         Hospitality  1.735561e+09            0.618811"
      ]
     },
     "execution_count": 42,
     "metadata": {},
     "output_type": "execute_result"
    }
   ],
   "source": [
    "top_10_sectors = total_funding_by_sector.head(10)\n",
    "top_10_sectors"
   ]
  },
  {
   "cell_type": "code",
   "execution_count": 43,
   "metadata": {},
   "outputs": [
    {
     "data": {
      "image/png": "[encoded data removed]",
      "text/plain": [
       "<Figure size 432x288 with 1 Axes>"
      ]
     },
     "metadata": {
      "needs_background": "light"
     },
     "output_type": "display_data"
    }
   ],
   "source": [
    "top_10_sectors = top_10_sectors.sort_values(by = 'Amount($)')\n",
    "sector = top_10_sectors['Sector']\n",
    "total_amount = top_10_sectors['Amount($)']\n",
    "\n",
    "plt.barh(sector, total_amount)\n",
    "\n",
    "plt.title('Amount in ($) Received by the Top Ten(10) Sectors')\n",
    "plt.xlabel('Amount in ($) Received in each Sector \\n(in the form \"xe+11\")')\n",
    "plt.ylabel('Top Ten Sectors')\n",
    "\n",
    "plt.show()"
   ]
  },
  {
   "attachments": {},
   "cell_type": "markdown",
   "metadata": {},
   "source": [
    "### 5. How many fintech start-up companies received funding from 2018 to 2021 compared to other companies in the top 10 sectors?"
   ]
  },
  {
   "cell_type": "code",
   "execution_count": 44,
   "metadata": {},
   "outputs": [
    {
     "data": {
      "text/html": [
       "<div>\n",
       "<style scoped>\n",
       "    .dataframe tbody tr th:only-of-type {\n",
       "        vertical-align: middle;\n",
       "    }\n",
       "\n",
       "    .dataframe tbody tr th {\n",
       "        vertical-align: top;\n",
       "    }\n",
       "\n",
       "    .dataframe thead th {\n",
       "        text-align: right;\n",
       "    }\n",
       "</style>\n",
       "<table border=\"1\" class=\"dataframe\">\n",
       "  <thead>\n",
       "    <tr style=\"text-align: right;\">\n",
       "      <th></th>\n",
       "      <th>Sector</th>\n",
       "      <th>Amount($)</th>\n",
       "      <th>Percent Funding(%)</th>\n",
       "      <th>Companies By Sector</th>\n",
       "      <th>Percent of Companies By Sector(%)</th>\n",
       "    </tr>\n",
       "  </thead>\n",
       "  <tbody>\n",
       "    <tr>\n",
       "      <th>308</th>\n",
       "      <td>Hospitality</td>\n",
       "      <td>1.735561e+09</td>\n",
       "      <td>0.618811</td>\n",
       "      <td>22</td>\n",
       "      <td>2.820513</td>\n",
       "    </tr>\n",
       "    <tr>\n",
       "      <th>252</th>\n",
       "      <td>Financial services</td>\n",
       "      <td>2.080802e+09</td>\n",
       "      <td>0.741907</td>\n",
       "      <td>86</td>\n",
       "      <td>11.025641</td>\n",
       "    </tr>\n",
       "    <tr>\n",
       "      <th>400</th>\n",
       "      <td>Multinational conglomerate company</td>\n",
       "      <td>2.200000e+09</td>\n",
       "      <td>0.784406</td>\n",
       "      <td>1</td>\n",
       "      <td>0.128205</td>\n",
       "    </tr>\n",
       "    <tr>\n",
       "      <th>51</th>\n",
       "      <td>Automotive</td>\n",
       "      <td>2.250389e+09</td>\n",
       "      <td>0.802372</td>\n",
       "      <td>53</td>\n",
       "      <td>6.794872</td>\n",
       "    </tr>\n",
       "    <tr>\n",
       "      <th>267</th>\n",
       "      <td>Food delivery</td>\n",
       "      <td>2.673076e+09</td>\n",
       "      <td>0.953081</td>\n",
       "      <td>7</td>\n",
       "      <td>0.897436</td>\n",
       "    </tr>\n",
       "    <tr>\n",
       "      <th>504</th>\n",
       "      <td>Tech company</td>\n",
       "      <td>3.022700e+09</td>\n",
       "      <td>1.077739</td>\n",
       "      <td>10</td>\n",
       "      <td>1.282051</td>\n",
       "    </tr>\n",
       "    <tr>\n",
       "      <th>199</th>\n",
       "      <td>E-commerce</td>\n",
       "      <td>3.104598e+09</td>\n",
       "      <td>1.106939</td>\n",
       "      <td>95</td>\n",
       "      <td>12.179487</td>\n",
       "    </tr>\n",
       "    <tr>\n",
       "      <th>210</th>\n",
       "      <td>Edtech</td>\n",
       "      <td>5.879829e+09</td>\n",
       "      <td>2.096443</td>\n",
       "      <td>221</td>\n",
       "      <td>28.333333</td>\n",
       "    </tr>\n",
       "    <tr>\n",
       "      <th>454</th>\n",
       "      <td>Retail</td>\n",
       "      <td>7.054238e+10</td>\n",
       "      <td>25.151766</td>\n",
       "      <td>26</td>\n",
       "      <td>3.333333</td>\n",
       "    </tr>\n",
       "    <tr>\n",
       "      <th>253</th>\n",
       "      <td>Fintech</td>\n",
       "      <td>1.547826e+11</td>\n",
       "      <td>55.187467</td>\n",
       "      <td>259</td>\n",
       "      <td>33.205128</td>\n",
       "    </tr>\n",
       "  </tbody>\n",
       "</table>\n",
       "</div>"
      ],
      "text/plain": [
       "                                 Sector     Amount($)  Percent Funding(%)  \\\n",
       "308                         Hospitality  1.735561e+09            0.618811   \n",
       "252                  Financial services  2.080802e+09            0.741907   \n",
       "400  Multinational conglomerate company  2.200000e+09            0.784406   \n",
       "51                           Automotive  2.250389e+09            0.802372   \n",
       "267                       Food delivery  2.673076e+09            0.953081   \n",
       "504                        Tech company  3.022700e+09            1.077739   \n",
       "199                          E-commerce  3.104598e+09            1.106939   \n",
       "210                              Edtech  5.879829e+09            2.096443   \n",
       "454                              Retail  7.054238e+10           25.151766   \n",
       "253                             Fintech  1.547826e+11           55.187467   \n",
       "\n",
       "     Companies By Sector  Percent of Companies By Sector(%)  \n",
       "308                   22                           2.820513  \n",
       "252                   86                          11.025641  \n",
       "400                    1                           0.128205  \n",
       "51                    53                           6.794872  \n",
       "267                    7                           0.897436  \n",
       "504                   10                           1.282051  \n",
       "199                   95                          12.179487  \n",
       "210                  221                          28.333333  \n",
       "454                   26                           3.333333  \n",
       "253                  259                          33.205128  "
      ]
     },
     "execution_count": 44,
     "metadata": {},
     "output_type": "execute_result"
    }
   ],
   "source": [
    "number_of_companies_funded = []\n",
    "\n",
    "for sector in list(top_10_sectors['Sector']):\n",
    "    number_of_companies_funded.append((big_frame['Sector'] == sector).sum())\n",
    "\n",
    "top_10_sectors['Companies By Sector'] = number_of_companies_funded\n",
    "top_10_sectors['Percent of Companies By Sector(%)'] = (top_10_sectors['Companies By Sector'] / top_10_sectors['Companies By Sector'].sum()) * 100\n",
    "top_10_sectors"
   ]
  },
  {
   "cell_type": "code",
   "execution_count": 45,
   "metadata": {},
   "outputs": [
    {
     "data": {
      "image/png": "[encoded data removed]",
      "text/plain": [
       "<Figure size 432x288 with 1 Axes>"
      ]
     },
     "metadata": {
      "needs_background": "light"
     },
     "output_type": "display_data"
    }
   ],
   "source": [
    "top_10_sectors = top_10_sectors.sort_values(by = 'Companies By Sector')\n",
    "sector = top_10_sectors['Sector']\n",
    "num_of_start_ups = top_10_sectors['Companies By Sector']\n",
    "\n",
    "plt.barh(sector, num_of_start_ups)\n",
    "\n",
    "plt.title('Total Number of Companies in the Each of the Top Ten(10) Sectors')\n",
    "plt.xlabel('Number of Start Up Companies')\n",
    "plt.ylabel('Top Ten Sectors')\n",
    "\n",
    "plt.show()"
   ]
  },
  {
   "attachments": {},
   "cell_type": "markdown",
   "metadata": {},
   "source": [
    "### 6. How does the average amount of funding received by fintech start-ups compare to the average amount of funding received by start-ups in other sectors in the Indian start-up ecosystem over the same period?"
   ]
  },
  {
   "cell_type": "code",
   "execution_count": 46,
   "metadata": {},
   "outputs": [
    {
     "data": {
      "text/html": [
       "<div>\n",
       "<style scoped>\n",
       "    .dataframe tbody tr th:only-of-type {\n",
       "        vertical-align: middle;\n",
       "    }\n",
       "\n",
       "    .dataframe tbody tr th {\n",
       "        vertical-align: top;\n",
       "    }\n",
       "\n",
       "    .dataframe thead th {\n",
       "        text-align: right;\n",
       "    }\n",
       "</style>\n",
       "<table border=\"1\" class=\"dataframe\">\n",
       "  <thead>\n",
       "    <tr style=\"text-align: right;\">\n",
       "      <th></th>\n",
       "      <th>Sector</th>\n",
       "      <th>Amount($)</th>\n",
       "      <th>Mean Percent Funding(%)</th>\n",
       "    </tr>\n",
       "  </thead>\n",
       "  <tbody>\n",
       "    <tr>\n",
       "      <th>454</th>\n",
       "      <td>Retail</td>\n",
       "      <td>2.821695e+09</td>\n",
       "      <td>19.384216</td>\n",
       "    </tr>\n",
       "    <tr>\n",
       "      <th>400</th>\n",
       "      <td>Multinational conglomerate company</td>\n",
       "      <td>2.200000e+09</td>\n",
       "      <td>15.113352</td>\n",
       "    </tr>\n",
       "    <tr>\n",
       "      <th>253</th>\n",
       "      <td>Fintech</td>\n",
       "      <td>6.909937e+08</td>\n",
       "      <td>4.746923</td>\n",
       "    </tr>\n",
       "    <tr>\n",
       "      <th>325</th>\n",
       "      <td>Innovation management</td>\n",
       "      <td>5.002500e+08</td>\n",
       "      <td>3.436570</td>\n",
       "    </tr>\n",
       "    <tr>\n",
       "      <th>450</th>\n",
       "      <td>Renewable player</td>\n",
       "      <td>3.900000e+08</td>\n",
       "      <td>2.679185</td>\n",
       "    </tr>\n",
       "    <tr>\n",
       "      <th>...</th>\n",
       "      <td>...</td>\n",
       "      <td>...</td>\n",
       "      <td>...</td>\n",
       "    </tr>\n",
       "    <tr>\n",
       "      <th>526</th>\n",
       "      <td>Travel tech</td>\n",
       "      <td>NaN</td>\n",
       "      <td>NaN</td>\n",
       "    </tr>\n",
       "    <tr>\n",
       "      <th>527</th>\n",
       "      <td>Traveltech</td>\n",
       "      <td>NaN</td>\n",
       "      <td>NaN</td>\n",
       "    </tr>\n",
       "    <tr>\n",
       "      <th>528</th>\n",
       "      <td>Tyre management</td>\n",
       "      <td>NaN</td>\n",
       "      <td>NaN</td>\n",
       "    </tr>\n",
       "    <tr>\n",
       "      <th>537</th>\n",
       "      <td>Video platform</td>\n",
       "      <td>NaN</td>\n",
       "      <td>NaN</td>\n",
       "    </tr>\n",
       "    <tr>\n",
       "      <th>539</th>\n",
       "      <td>Video streaming platform</td>\n",
       "      <td>NaN</td>\n",
       "      <td>NaN</td>\n",
       "    </tr>\n",
       "  </tbody>\n",
       "</table>\n",
       "<p>555 rows × 3 columns</p>\n",
       "</div>"
      ],
      "text/plain": [
       "                                 Sector     Amount($)  Mean Percent Funding(%)\n",
       "454                              Retail  2.821695e+09                19.384216\n",
       "400  Multinational conglomerate company  2.200000e+09                15.113352\n",
       "253                             Fintech  6.909937e+08                 4.746923\n",
       "325               Innovation management  5.002500e+08                 3.436570\n",
       "450                    Renewable player  3.900000e+08                 2.679185\n",
       "..                                  ...           ...                      ...\n",
       "526                         Travel tech           NaN                      NaN\n",
       "527                          Traveltech           NaN                      NaN\n",
       "528                     Tyre management           NaN                      NaN\n",
       "537                      Video platform           NaN                      NaN\n",
       "539            Video streaming platform           NaN                      NaN\n",
       "\n",
       "[555 rows x 3 columns]"
      ]
     },
     "execution_count": 46,
     "metadata": {},
     "output_type": "execute_result"
    }
   ],
   "source": [
    "mean_funding = sector_grp['Amount($)'].mean().reset_index()\n",
    "average_funding_by_sector = mean_funding.sort_values(by = 'Amount($)', ascending = False)\n",
    "average_funding_by_sector['Mean Percent Funding(%)'] = (average_funding_by_sector['Amount($)'] / average_funding_by_sector['Amount($)'].sum()) * 100\n",
    "average_funding_by_sector"
   ]
  },
  {
   "cell_type": "code",
   "execution_count": 47,
   "metadata": {},
   "outputs": [
    {
     "data": {
      "image/png": "[encoded data removed]",
      "text/plain": [
       "<Figure size 432x288 with 1 Axes>"
      ]
     },
     "metadata": {
      "needs_background": "light"
     },
     "output_type": "display_data"
    }
   ],
   "source": [
    "top_20_sectors_average_funding = average_funding_by_sector.sort_values(by = 'Amount($)', ascending = False).head(20).sort_values(by = 'Amount($)')\n",
    "sector = top_20_sectors_average_funding['Sector']\n",
    "mean_amount = top_20_sectors_average_funding['Amount($)']\n",
    "\n",
    "plt.barh(sector, mean_amount)\n",
    "\n",
    "plt.title('Mean Amount in ($) Received in each of the Top Twenty(20) Sectors')\n",
    "plt.xlabel('Mean Amount in ($) Received in each Sector \\n(in the form \"xe+11\")', fontsize = 14)\n",
    "plt.ylabel('Top Twenty Sectors')\n",
    "\n",
    "plt.show()"
   ]
  },
  {
   "attachments": {},
   "cell_type": "markdown",
   "metadata": {},
   "source": [
    "### 7. Have the investment trends in the Indian start-up ecosystem shown a preference for fintech companies over other sectors from 2018 to 2021?"
   ]
  },
  {
   "cell_type": "code",
   "execution_count": 48,
   "metadata": {},
   "outputs": [
    {
     "name": "stderr",
     "output_type": "stream",
     "text": [
      "C:\\Users\\Eddison\\AppData\\Local\\Temp\\ipykernel_22228\\3377637700.py:13: SettingWithCopyWarning: \n",
      "A value is trying to be set on a copy of a slice from a DataFrame.\n",
      "Try using .loc[row_indexer,col_indexer] = value instead\n",
      "\n",
      "See the caveats in the documentation: https://pandas.pydata.org/pandas-docs/stable/user_guide/indexing.html#returning-a-view-versus-a-copy\n",
      "  df.loc[df.index, 'No. of Companies'] = (sector_count['Fintech'])\n"
     ]
    },
    {
     "data": {
      "text/html": [
       "<div>\n",
       "<style scoped>\n",
       "    .dataframe tbody tr th:only-of-type {\n",
       "        vertical-align: middle;\n",
       "    }\n",
       "\n",
       "    .dataframe tbody tr th {\n",
       "        vertical-align: top;\n",
       "    }\n",
       "\n",
       "    .dataframe thead th {\n",
       "        text-align: right;\n",
       "    }\n",
       "</style>\n",
       "<table border=\"1\" class=\"dataframe\">\n",
       "  <thead>\n",
       "    <tr style=\"text-align: right;\">\n",
       "      <th></th>\n",
       "      <th>Sector</th>\n",
       "      <th>Amount($)</th>\n",
       "      <th>No. of Companies</th>\n",
       "    </tr>\n",
       "  </thead>\n",
       "  <tbody>\n",
       "    <tr>\n",
       "      <th>88</th>\n",
       "      <td>Fintech</td>\n",
       "      <td>17600000.0</td>\n",
       "      <td>2.0</td>\n",
       "    </tr>\n",
       "  </tbody>\n",
       "</table>\n",
       "</div>"
      ],
      "text/plain": [
       "     Sector   Amount($)  No. of Companies\n",
       "88  Fintech  17600000.0               2.0"
      ]
     },
     "execution_count": 48,
     "metadata": {},
     "output_type": "execute_result"
    }
   ],
   "source": [
    "def fintech_sector_count(yr):\n",
    "    year_filt = big_frame['Funding Year'] == yr\n",
    "\n",
    "    sectors_funded = big_frame.loc[year_filt, ['Sector', 'Amount($)', 'Funding Year']]\n",
    "    funded_by_sector = sectors_funded.groupby('Sector')['Amount($)'].sum().reset_index()\n",
    "    filt = (funded_by_sector['Sector'] == 'Fintech')\n",
    "    df = funded_by_sector.loc[filt]\n",
    "\n",
    "    sector_list = list(big_frame.loc[year_filt, 'Sector'].dropna(axis = 'index', how = 'all'))\n",
    "    sector_count = Counter(sector_list)\n",
    "    sector_count = dict(sorted(sector_count.items(), key=lambda item: item[1], reverse = True))\n",
    "\n",
    "    df.loc[df.index, 'No. of Companies'] = (sector_count['Fintech'])\n",
    "    # df['No. of Companies'] = (sector_count['Fintech'])\n",
    "    \n",
    "    return df\n",
    "\n",
    "fintech_sector_count(2018)"
   ]
  },
  {
   "cell_type": "code",
   "execution_count": 49,
   "metadata": {},
   "outputs": [
    {
     "name": "stderr",
     "output_type": "stream",
     "text": [
      "C:\\Users\\Eddison\\AppData\\Local\\Temp\\ipykernel_22228\\3377637700.py:13: SettingWithCopyWarning: \n",
      "A value is trying to be set on a copy of a slice from a DataFrame.\n",
      "Try using .loc[row_indexer,col_indexer] = value instead\n",
      "\n",
      "See the caveats in the documentation: https://pandas.pydata.org/pandas-docs/stable/user_guide/indexing.html#returning-a-view-versus-a-copy\n",
      "  df.loc[df.index, 'No. of Companies'] = (sector_count['Fintech'])\n"
     ]
    },
    {
     "data": {
      "text/html": [
       "<div>\n",
       "<style scoped>\n",
       "    .dataframe tbody tr th:only-of-type {\n",
       "        vertical-align: middle;\n",
       "    }\n",
       "\n",
       "    .dataframe tbody tr th {\n",
       "        vertical-align: top;\n",
       "    }\n",
       "\n",
       "    .dataframe thead th {\n",
       "        text-align: right;\n",
       "    }\n",
       "</style>\n",
       "<table border=\"1\" class=\"dataframe\">\n",
       "  <thead>\n",
       "    <tr style=\"text-align: right;\">\n",
       "      <th></th>\n",
       "      <th>Sector</th>\n",
       "      <th>Amount($)</th>\n",
       "      <th>No. of Companies</th>\n",
       "    </tr>\n",
       "  </thead>\n",
       "  <tbody>\n",
       "    <tr>\n",
       "      <th>18</th>\n",
       "      <td>Fintech</td>\n",
       "      <td>30000000.0</td>\n",
       "      <td>5.0</td>\n",
       "    </tr>\n",
       "  </tbody>\n",
       "</table>\n",
       "</div>"
      ],
      "text/plain": [
       "     Sector   Amount($)  No. of Companies\n",
       "18  Fintech  30000000.0               5.0"
      ]
     },
     "execution_count": 49,
     "metadata": {},
     "output_type": "execute_result"
    }
   ],
   "source": [
    "fintech_sector_count(2019)"
   ]
  },
  {
   "cell_type": "code",
   "execution_count": 50,
   "metadata": {},
   "outputs": [
    {
     "name": "stderr",
     "output_type": "stream",
     "text": [
      "C:\\Users\\Eddison\\AppData\\Local\\Temp\\ipykernel_22228\\3377637700.py:13: SettingWithCopyWarning: \n",
      "A value is trying to be set on a copy of a slice from a DataFrame.\n",
      "Try using .loc[row_indexer,col_indexer] = value instead\n",
      "\n",
      "See the caveats in the documentation: https://pandas.pydata.org/pandas-docs/stable/user_guide/indexing.html#returning-a-view-versus-a-copy\n",
      "  df.loc[df.index, 'No. of Companies'] = (sector_count['Fintech'])\n"
     ]
    },
    {
     "data": {
      "text/html": [
       "<div>\n",
       "<style scoped>\n",
       "    .dataframe tbody tr th:only-of-type {\n",
       "        vertical-align: middle;\n",
       "    }\n",
       "\n",
       "    .dataframe tbody tr th {\n",
       "        vertical-align: top;\n",
       "    }\n",
       "\n",
       "    .dataframe thead th {\n",
       "        text-align: right;\n",
       "    }\n",
       "</style>\n",
       "<table border=\"1\" class=\"dataframe\">\n",
       "  <thead>\n",
       "    <tr style=\"text-align: right;\">\n",
       "      <th></th>\n",
       "      <th>Sector</th>\n",
       "      <th>Amount($)</th>\n",
       "      <th>No. of Companies</th>\n",
       "    </tr>\n",
       "  </thead>\n",
       "  <tbody>\n",
       "    <tr>\n",
       "      <th>118</th>\n",
       "      <td>Fintech</td>\n",
       "      <td>2.123999e+09</td>\n",
       "      <td>131.0</td>\n",
       "    </tr>\n",
       "  </tbody>\n",
       "</table>\n",
       "</div>"
      ],
      "text/plain": [
       "      Sector     Amount($)  No. of Companies\n",
       "118  Fintech  2.123999e+09             131.0"
      ]
     },
     "execution_count": 50,
     "metadata": {},
     "output_type": "execute_result"
    }
   ],
   "source": [
    "fintech_sector_count(2020)\n"
   ]
  },
  {
   "cell_type": "code",
   "execution_count": 51,
   "metadata": {},
   "outputs": [
    {
     "name": "stderr",
     "output_type": "stream",
     "text": [
      "C:\\Users\\Eddison\\AppData\\Local\\Temp\\ipykernel_22228\\3377637700.py:13: SettingWithCopyWarning: \n",
      "A value is trying to be set on a copy of a slice from a DataFrame.\n",
      "Try using .loc[row_indexer,col_indexer] = value instead\n",
      "\n",
      "See the caveats in the documentation: https://pandas.pydata.org/pandas-docs/stable/user_guide/indexing.html#returning-a-view-versus-a-copy\n",
      "  df.loc[df.index, 'No. of Companies'] = (sector_count['Fintech'])\n"
     ]
    },
    {
     "data": {
      "text/html": [
       "<div>\n",
       "<style scoped>\n",
       "    .dataframe tbody tr th:only-of-type {\n",
       "        vertical-align: middle;\n",
       "    }\n",
       "\n",
       "    .dataframe tbody tr th {\n",
       "        vertical-align: top;\n",
       "    }\n",
       "\n",
       "    .dataframe thead th {\n",
       "        text-align: right;\n",
       "    }\n",
       "</style>\n",
       "<table border=\"1\" class=\"dataframe\">\n",
       "  <thead>\n",
       "    <tr style=\"text-align: right;\">\n",
       "      <th></th>\n",
       "      <th>Sector</th>\n",
       "      <th>Amount($)</th>\n",
       "      <th>No. of Companies</th>\n",
       "    </tr>\n",
       "  </thead>\n",
       "  <tbody>\n",
       "    <tr>\n",
       "      <th>101</th>\n",
       "      <td>Fintech</td>\n",
       "      <td>1.526110e+11</td>\n",
       "      <td>121.0</td>\n",
       "    </tr>\n",
       "  </tbody>\n",
       "</table>\n",
       "</div>"
      ],
      "text/plain": [
       "      Sector     Amount($)  No. of Companies\n",
       "101  Fintech  1.526110e+11             121.0"
      ]
     },
     "execution_count": 51,
     "metadata": {},
     "output_type": "execute_result"
    }
   ],
   "source": [
    "fintech_sector_count(2021)"
   ]
  },
  {
   "cell_type": "code",
   "execution_count": 52,
   "metadata": {},
   "outputs": [
    {
     "name": "stderr",
     "output_type": "stream",
     "text": [
      "C:\\Users\\Eddison\\AppData\\Local\\Temp\\ipykernel_22228\\3377637700.py:13: SettingWithCopyWarning: \n",
      "A value is trying to be set on a copy of a slice from a DataFrame.\n",
      "Try using .loc[row_indexer,col_indexer] = value instead\n",
      "\n",
      "See the caveats in the documentation: https://pandas.pydata.org/pandas-docs/stable/user_guide/indexing.html#returning-a-view-versus-a-copy\n",
      "  df.loc[df.index, 'No. of Companies'] = (sector_count['Fintech'])\n",
      "C:\\Users\\Eddison\\AppData\\Local\\Temp\\ipykernel_22228\\3377637700.py:13: SettingWithCopyWarning: \n",
      "A value is trying to be set on a copy of a slice from a DataFrame.\n",
      "Try using .loc[row_indexer,col_indexer] = value instead\n",
      "\n",
      "See the caveats in the documentation: https://pandas.pydata.org/pandas-docs/stable/user_guide/indexing.html#returning-a-view-versus-a-copy\n",
      "  df.loc[df.index, 'No. of Companies'] = (sector_count['Fintech'])\n",
      "C:\\Users\\Eddison\\AppData\\Local\\Temp\\ipykernel_22228\\3377637700.py:13: SettingWithCopyWarning: \n",
      "A value is trying to be set on a copy of a slice from a DataFrame.\n",
      "Try using .loc[row_indexer,col_indexer] = value instead\n",
      "\n",
      "See the caveats in the documentation: https://pandas.pydata.org/pandas-docs/stable/user_guide/indexing.html#returning-a-view-versus-a-copy\n",
      "  df.loc[df.index, 'No. of Companies'] = (sector_count['Fintech'])\n",
      "C:\\Users\\Eddison\\AppData\\Local\\Temp\\ipykernel_22228\\3377637700.py:13: SettingWithCopyWarning: \n",
      "A value is trying to be set on a copy of a slice from a DataFrame.\n",
      "Try using .loc[row_indexer,col_indexer] = value instead\n",
      "\n",
      "See the caveats in the documentation: https://pandas.pydata.org/pandas-docs/stable/user_guide/indexing.html#returning-a-view-versus-a-copy\n",
      "  df.loc[df.index, 'No. of Companies'] = (sector_count['Fintech'])\n"
     ]
    },
    {
     "data": {
      "text/html": [
       "<div>\n",
       "<style scoped>\n",
       "    .dataframe tbody tr th:only-of-type {\n",
       "        vertical-align: middle;\n",
       "    }\n",
       "\n",
       "    .dataframe tbody tr th {\n",
       "        vertical-align: top;\n",
       "    }\n",
       "\n",
       "    .dataframe thead th {\n",
       "        text-align: right;\n",
       "    }\n",
       "</style>\n",
       "<table border=\"1\" class=\"dataframe\">\n",
       "  <thead>\n",
       "    <tr style=\"text-align: right;\">\n",
       "      <th></th>\n",
       "      <th>Sector</th>\n",
       "      <th>Amount($)</th>\n",
       "      <th>No. of Companies</th>\n",
       "      <th>Funding Year</th>\n",
       "    </tr>\n",
       "  </thead>\n",
       "  <tbody>\n",
       "    <tr>\n",
       "      <th>0</th>\n",
       "      <td>Fintech</td>\n",
       "      <td>1.760000e+07</td>\n",
       "      <td>2.0</td>\n",
       "      <td>2018</td>\n",
       "    </tr>\n",
       "    <tr>\n",
       "      <th>1</th>\n",
       "      <td>Fintech</td>\n",
       "      <td>3.000000e+07</td>\n",
       "      <td>5.0</td>\n",
       "      <td>2019</td>\n",
       "    </tr>\n",
       "    <tr>\n",
       "      <th>2</th>\n",
       "      <td>Fintech</td>\n",
       "      <td>2.123999e+09</td>\n",
       "      <td>131.0</td>\n",
       "      <td>2020</td>\n",
       "    </tr>\n",
       "    <tr>\n",
       "      <th>3</th>\n",
       "      <td>Fintech</td>\n",
       "      <td>1.526110e+11</td>\n",
       "      <td>121.0</td>\n",
       "      <td>2021</td>\n",
       "    </tr>\n",
       "  </tbody>\n",
       "</table>\n",
       "</div>"
      ],
      "text/plain": [
       "    Sector     Amount($)  No. of Companies  Funding Year\n",
       "0  Fintech  1.760000e+07               2.0          2018\n",
       "1  Fintech  3.000000e+07               5.0          2019\n",
       "2  Fintech  2.123999e+09             131.0          2020\n",
       "3  Fintech  1.526110e+11             121.0          2021"
      ]
     },
     "execution_count": 52,
     "metadata": {},
     "output_type": "execute_result"
    }
   ],
   "source": [
    "dfs = [fintech_sector_count(2018), fintech_sector_count(2019), fintech_sector_count(2020), fintech_sector_count(2021)]\n",
    "year = 2018\n",
    "for i in np.arange(len(dfs)):\n",
    "    dfs[i]['Funding Year'] = year\n",
    "    year += 1 \n",
    "data = pd.concat(dfs, ignore_index = True)\n",
    "data"
   ]
  },
  {
   "cell_type": "code",
   "execution_count": 53,
   "metadata": {},
   "outputs": [
    {
     "data": {
      "image/png": "[encoded data removed]",
      "text/plain": [
       "<Figure size 432x288 with 1 Axes>"
      ]
     },
     "metadata": {},
     "output_type": "display_data"
    }
   ],
   "source": [
    "plt.style.use('fivethirtyeight')\n",
    "\n",
    "slices = data['No. of Companies']\n",
    "slice_labels = data['Funding Year']\n",
    "size_pct = [((i/sum(data['No. of Companies']))*100) for i in data['No. of Companies']] # list of the percentage sizes of each slice\n",
    "\n",
    "legend_labels = [f'{l} : {s:0.1f}%' for l, s in zip(slice_labels, size_pct)]\n",
    "plt.pie(slices, shadow = True, startangle = 90, wedgeprops = {'edgecolor' : 'black'})\n",
    "\n",
    "plt.title('Number of Start Up Companies in the Fintech Sector over the Years')\n",
    "\n",
    "plt.legend(bbox_to_anchor=(1, 1), loc='upper left', labels=legend_labels)\n",
    "plt.tight_layout()\n",
    "plt.show()"
   ]
  },
  {
   "attachments": {},
   "cell_type": "markdown",
   "metadata": {},
   "source": [
    "### Additional Analysis"
   ]
  },
  {
   "cell_type": "code",
   "execution_count": 54,
   "metadata": {},
   "outputs": [
    {
     "data": {
      "image/png": "[encoded data removed]",
      "text/plain": [
       "<Figure size 432x288 with 1 Axes>"
      ]
     },
     "metadata": {},
     "output_type": "display_data"
    }
   ],
   "source": [
    "plt.style.use('fivethirtyeight')\n",
    "\n",
    "year_founded = big_frame['Founded']\n",
    "\n",
    "start = round(big_frame['Founded'].min(), -1)\n",
    "stop = big_frame['Founded'].max()\n",
    "step = 5\n",
    "\n",
    "bns = np.arange(start, (stop + step), step)\n",
    "\n",
    "plt.hist(year_founded, bins = bns, edgecolor = 'black', log = True)\n",
    "\n",
    "plt.title('Distribution of the Years the Start Up Companies were Founded', fontsize = 20)\n",
    "plt.xlabel('Year The Start Up Company was Founded', fontsize = 15)\n",
    "plt.ylabel('The Number of Start Ups Founded \\n(in log form)', fontsize = 15)\n",
    "\n",
    "plt.show()"
   ]
  },
  {
   "attachments": {},
   "cell_type": "markdown",
   "metadata": {},
   "source": [
    "**In conclusion, the null hypothesis that Fintech is the most lucrative sector receiving the most significant funding in the Indian start-up ecosystem has been proven through analysis of funding data and research on the Indian start-up ecosystem datasets.**"
   ]
  }
 ],
 "metadata": {
  "kernelspec": {
   "display_name": "Python 3",
   "language": "python",
   "name": "python3"
  },
  "language_info": {
   "codemirror_mode": {
    "name": "ipython",
    "version": 3
   },
   "file_extension": ".py",
   "mimetype": "text/x-python",
   "name": "python",
   "nbconvert_exporter": "python",
   "pygments_lexer": "ipython3",
   "version": "3.10.9"
  },
  "orig_nbformat": 4,
  "vscode": {
   "interpreter": {
    "hash": "350f6d6ba44426e9ee9e6420070bafa9a3031d5df5c93eeff465e3c1c1cba0bf"
   }
  }
 },
 "nbformat": 4,
 "nbformat_minor": 2
}
